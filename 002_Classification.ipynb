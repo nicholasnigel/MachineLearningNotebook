{
 "cells": [
  {
   "cell_type": "markdown",
   "metadata": {},
   "source": [
    "## Using MNIST Dataset"
   ]
  },
  {
   "cell_type": "code",
   "execution_count": 1,
   "metadata": {},
   "outputs": [
    {
     "name": "stderr",
     "output_type": "stream",
     "text": [
      "/Users/nigelnicholas/Library/Python/3.6/lib/python/site-packages/sklearn/utils/deprecation.py:77: DeprecationWarning: Function fetch_mldata is deprecated; fetch_mldata was deprecated in version 0.20 and will be removed in version 0.22\n",
      "  warnings.warn(msg, category=DeprecationWarning)\n",
      "/Users/nigelnicholas/Library/Python/3.6/lib/python/site-packages/sklearn/utils/deprecation.py:77: DeprecationWarning: Function mldata_filename is deprecated; mldata_filename was deprecated in version 0.20 and will be removed in version 0.22\n",
      "  warnings.warn(msg, category=DeprecationWarning)\n"
     ]
    },
    {
     "data": {
      "text/plain": [
       "{'DESCR': 'mldata.org dataset: mnist-original',\n",
       " 'COL_NAMES': ['label', 'data'],\n",
       " 'target': array([0., 0., 0., ..., 9., 9., 9.]),\n",
       " 'data': array([[0, 0, 0, ..., 0, 0, 0],\n",
       "        [0, 0, 0, ..., 0, 0, 0],\n",
       "        [0, 0, 0, ..., 0, 0, 0],\n",
       "        ...,\n",
       "        [0, 0, 0, ..., 0, 0, 0],\n",
       "        [0, 0, 0, ..., 0, 0, 0],\n",
       "        [0, 0, 0, ..., 0, 0, 0]], dtype=uint8)}"
      ]
     },
     "execution_count": 1,
     "metadata": {},
     "output_type": "execute_result"
    }
   ],
   "source": [
    "import warnings \n",
    "warnings.simplefilter('ignore')\n",
    "from sklearn.datasets import fetch_mldata\n",
    "mnist = fetch_mldata('MNIST original', transpose_data=True, data_home ='files')\n",
    "mnist"
   ]
  },
  {
   "cell_type": "code",
   "execution_count": 3,
   "metadata": {},
   "outputs": [
    {
     "name": "stdout",
     "output_type": "stream",
     "text": [
      "shape of X: (70000, 784), shape of y: (70000,)\n"
     ]
    }
   ],
   "source": [
    "X, y = mnist[\"data\"], mnist[\"target\"] # X is data and y is label\n",
    "print(\"shape of X: {}, shape of y: {}\".format(X.shape,y.shape))"
   ]
  },
  {
   "cell_type": "markdown",
   "metadata": {},
   "source": [
    "<style>\n",
    "   .cursive{\n",
    "      font-family: cursive;\n",
    "    }\n",
    "</style>\n",
    "X is the representation of data collected, and y is the label.  \n",
    "X represents 70000 sample, consisting of 28x28 pixel.  \n"
   ]
  },
  {
   "cell_type": "code",
   "execution_count": 4,
   "metadata": {},
   "outputs": [
    {
     "data": {
      "text/plain": [
       "<Figure size 640x480 with 1 Axes>"
      ]
     },
     "metadata": {},
     "output_type": "display_data"
    },
    {
     "name": "stdout",
     "output_type": "stream",
     "text": [
      "Label: 5.0\n"
     ]
    }
   ],
   "source": [
    "import matplotlib\n",
    "import matplotlib.pyplot as plt\n",
    "\n",
    "example = X[36000]\n",
    "reshaped = example.reshape(28,28)\n",
    "plt.imshow(reshaped, cmap =matplotlib.cm.binary, interpolation=\"nearest\")\n",
    "plt.axis(\"off\")\n",
    "plt.show()\n",
    "print(\"Label: {}\".format(y[36000]))"
   ]
  },
  {
   "cell_type": "markdown",
   "metadata": {},
   "source": [
    "plt.imshow() shows the five-like image above. And the label shows that it is indeed 5."
   ]
  },
  {
   "cell_type": "markdown",
   "metadata": {},
   "source": [
    "## Data Splitting  \n",
    "\n",
    "Assume we're going to have 60000 as training and the remaining 10000 as test. "
   ]
  },
  {
   "cell_type": "code",
   "execution_count": 5,
   "metadata": {},
   "outputs": [],
   "source": [
    "X_train, X_test, y_train, y_test = X[:60000], X[60000:], y[:60000], y[60000:]"
   ]
  },
  {
   "cell_type": "markdown",
   "metadata": {},
   "source": [
    "Code above is if you want to use sets sequentially. (First 60000 as training and the remaining as test).\n",
    "\n",
    "However sometimes it's also important to shuffle order of training instances, sometimes the order of instances may influence the value being close to each other, hence when training doesn't capture the whole data.\n",
    "\n",
    "To shuffle:"
   ]
  },
  {
   "cell_type": "code",
   "execution_count": 6,
   "metadata": {},
   "outputs": [],
   "source": [
    "import numpy as np \n",
    "\n",
    "shuffle_index = np.random.permutation(60000)  # where the random happens\n",
    "X_train, y_train = X_train[shuffle_index], y_train[shuffle_index]"
   ]
  },
  {
   "cell_type": "markdown",
   "metadata": {},
   "source": [
    "## Binary Classifier\n",
    "\n",
    "Classifying instances into 1 or 0. Now we simply find whether a digit is 5 or not. Only distinguish between 2 classes."
   ]
  },
  {
   "cell_type": "code",
   "execution_count": 7,
   "metadata": {},
   "outputs": [],
   "source": [
    "y_train_5 = (y_train == 5)  \n",
    "y_test_5 = (y_test == 5) # Creating array made of True and False(of whether that instance is labelled as 5)"
   ]
  },
  {
   "cell_type": "markdown",
   "metadata": {},
   "source": [
    "Using __SGD Classifier__ (Stochastic Gradient Descent) is advantageous in this one. SGD deals with training instances independently, one at a time. SGD relies on randomness during training."
   ]
  },
  {
   "cell_type": "code",
   "execution_count": 8,
   "metadata": {},
   "outputs": [
    {
     "data": {
      "text/plain": [
       "SGDClassifier(alpha=0.0001, average=False, class_weight=None,\n",
       "       early_stopping=False, epsilon=0.1, eta0=0.0, fit_intercept=True,\n",
       "       l1_ratio=0.15, learning_rate='optimal', loss='hinge', max_iter=None,\n",
       "       n_iter=None, n_iter_no_change=5, n_jobs=None, penalty='l2',\n",
       "       power_t=0.5, random_state=42, shuffle=True, tol=None,\n",
       "       validation_fraction=0.1, verbose=0, warm_start=False)"
      ]
     },
     "execution_count": 8,
     "metadata": {},
     "output_type": "execute_result"
    }
   ],
   "source": [
    "from sklearn.linear_model import SGDClassifier\n",
    "\n",
    "sgd=SGDClassifier(random_state=42)\n",
    "sgd.fit(X_train, y_train_5)"
   ]
  },
  {
   "cell_type": "markdown",
   "metadata": {},
   "source": [
    "After fitting data into model we can now do prediction by simply:\n",
    "\n",
    "```python\n",
    "\n",
    "sgd.predict([1,3,5,...]) \n",
    "```"
   ]
  },
  {
   "cell_type": "markdown",
   "metadata": {},
   "source": [
    "## Measuring Performance\n",
    "\n",
    "### Cross-Validation\n",
    "Implementation:\n"
   ]
  },
  {
   "cell_type": "code",
   "execution_count": 9,
   "metadata": {},
   "outputs": [
    {
     "name": "stdout",
     "output_type": "stream",
     "text": [
      "0.9622\n",
      "0.9687\n",
      "0.96415\n"
     ]
    }
   ],
   "source": [
    "from sklearn.model_selection import StratifiedKFold\n",
    "from sklearn.base import clone\n",
    "\n",
    "#method: split training set into 3 subsets. For each of the subsets, fit into the clone of the sgd classifier, do predictions \n",
    "#and calculate the accuracy of the classifier.\n",
    "\n",
    "skfolds=StratifiedKFold(n_splits=3, random_state=42)\n",
    "\n",
    "for train_index, test_index in skfolds.split(X_train, y_train_5):\n",
    "    clone_classifier=clone(sgd)  # create clone so that it doesn't affect the original sgd classifier\n",
    "    X_train_folds = X_train[train_index]\n",
    "    y_train_folds = (y_train_5[train_index])\n",
    "    X_test_fold = X_train[test_index]\n",
    "    y_test_fold = (y_train_5[test_index])\n",
    "    \n",
    "    clone_classifier.fit(X_train_folds, y_train_folds)\n",
    "    y_pred = clone_classifier.predict(X_test_fold)\n",
    "    n_correct = sum(y_pred == y_test_fold)\n",
    "    print(n_correct/len(y_pred))"
   ]
  },
  {
   "cell_type": "markdown",
   "metadata": {},
   "source": [
    "StratifiedKFold class performs stratified sampling (<https://en.wikipedia.org/wiki/Stratified_sampling>). In summary, stratified sampling is sampling for a population that is divided into sub-populations. However, the division of subpopulation is such that each subpopulation is a homogenous group, that they are mutually exclusive and exhaustive. Stratified sampling produce folds that contain a representative ratio of each class.\n",
    "\n",
    "Alternative to implementing our own, we can simply use ``` cross_val_score()```"
   ]
  },
  {
   "cell_type": "code",
   "execution_count": 10,
   "metadata": {},
   "outputs": [
    {
     "data": {
      "text/plain": [
       "array([0.9622 , 0.9687 , 0.96415])"
      ]
     },
     "execution_count": 10,
     "metadata": {},
     "output_type": "execute_result"
    }
   ],
   "source": [
    "from sklearn.model_selection import cross_val_score\n",
    "cross_val_score(sgd, X_train, y_train_5, cv=3, scoring=\"accuracy\")"
   ]
  },
  {
   "cell_type": "markdown",
   "metadata": {},
   "source": [
    "the k-fold cross validation means splitting training set into k-folds then making predictions and evaluating them on each fold using a model.  \n",
    "\n",
    "However, accuracy is not the best measure of score. "
   ]
  },
  {
   "cell_type": "code",
   "execution_count": 11,
   "metadata": {},
   "outputs": [
    {
     "data": {
      "text/plain": [
       "5421"
      ]
     },
     "execution_count": 11,
     "metadata": {},
     "output_type": "execute_result"
    }
   ],
   "source": [
    "sum(y_train_5)"
   ]
  },
  {
   "cell_type": "markdown",
   "metadata": {},
   "source": [
    "Code above shows that only 5421 digits are labelled 5. Therefore even if your classifier classify all as non-5, the accuracy of the classifier is still (60000-5421)/60000. Accuracy therefore is not a good measure for skewed datasets.\n",
    "\n",
    "With that in mind it's time we look into other performance measures."
   ]
  },
  {
   "cell_type": "markdown",
   "metadata": {},
   "source": [
    "## Confusion Matrix\n",
    "\n",
    "it's a n by n matrix ( where n is the number of classes ). Each row in confusion matrix represents actual class and each column represents predicted class. So row 5 column 3 shows the number of 5 misclassified as a 3."
   ]
  },
  {
   "cell_type": "code",
   "execution_count": 12,
   "metadata": {},
   "outputs": [
    {
     "data": {
      "text/plain": [
       "array([[54049,   530],\n",
       "       [ 1569,  3852]])"
      ]
     },
     "execution_count": 12,
     "metadata": {},
     "output_type": "execute_result"
    }
   ],
   "source": [
    "from sklearn.model_selection import cross_val_predict\n",
    "from sklearn.metrics import confusion_matrix\n",
    "\n",
    "y_train_pred =cross_val_predict(sgd, X_train, y_train_5, cv=3) # cross_val_predict does a kfold cross validation\n",
    "matrix = confusion_matrix(y_train_5, y_train_pred)\n",
    "matrix\n"
   ]
  },
  {
   "cell_type": "markdown",
   "metadata": {},
   "source": [
    "From array above we an see that n x n table. First row shows the non-5 images and means that 54025 pictures are classified correctly meanwhile.\n",
    "\n",
    "Let's assume we have a _positive_ class and _negative_ class. Take _negative_ as the non-5.\n",
    "\n",
    "From the array above we can see that, 54025 are correctly classified and 554 class non-5 are misclassified as class 5. The classifier results to __54025 True Negative__ and __554 False Positive__. Continuing this logic: 1568 __False Negatives__ and 3853 __True Positives__.\n",
    "\n",
    "If a classifier is perfect ( such that it predicts all exactly like the supposed class. It should contain only True Positives nad True Negatives.\n",
    "\n",
    "## Some Possible Metrics \n",
    "\n",
    "[precision score](https://scikit-learn.org/stable/modules/generated/sklearn.metrics.precision_score.html)  \n",
    "[recall score](https://scikit-learn.org/stable/modules/generated/sklearn.metrics.recall_score.html)\n",
    "\n",
    "\\begin{equation*}\n",
    "precision = \\frac{TP}{(TP+FP)} \\\\\n",
    "recall = \\frac{TP}{TP+FN}\\\\\n",
    "\\end{equation*}"
   ]
  },
  {
   "cell_type": "code",
   "execution_count": 13,
   "metadata": {},
   "outputs": [
    {
     "name": "stdout",
     "output_type": "stream",
     "text": [
      "precision = 0.8790506617982656\n",
      "recall = 0.7105700055340343\n"
     ]
    }
   ],
   "source": [
    "from sklearn.metrics import precision_score, recall_score\n",
    "\n",
    "print('precision = {}'.format(precision_score(y_train_5, y_train_pred)))\n",
    "print('recall = {}'.format(recall_score(y_train_5, y_train_pred)))"
   ]
  },
  {
   "cell_type": "markdown",
   "metadata": {},
   "source": [
    "Combining the essence of precision and recall we get:\n",
    "\n",
    "\\begin{equation*}\n",
    "F_1 = 2 \\times \\frac{precision \\times recall}{precision + recall}\n",
    "\\end{equation*}\n",
    "\n",
    "F1 score will favor classifiers that give similar precision and recall. Sometimes taking precision and recall on their own is also a good metric.  \n",
    "\n",
    "Example where F1 score wouldnt be necessary is video filter. Classifier determining whether video is safe for kids or not. You prefer safety over good --> low recall and high precision.\n",
    "High precision means: you need less false positives ( you want your positives to be mostly correct, reduce amount of positives)  \n",
    "\n",
    "High reall means that you need less false negatives ( you should have classified more as a positive)."
   ]
  },
  {
   "cell_type": "code",
   "execution_count": 14,
   "metadata": {},
   "outputs": [
    {
     "data": {
      "text/plain": [
       "0.7858818728960522"
      ]
     },
     "execution_count": 14,
     "metadata": {},
     "output_type": "execute_result"
    }
   ],
   "source": [
    "from sklearn.metrics import f1_score\n",
    "f1_score(y_train_5, y_train_pred)"
   ]
  },
  {
   "cell_type": "markdown",
   "metadata": {},
   "source": [
    "However, often times, precision and recall is usually a trade-off. (Increasing precision reduces recall).\n",
    "\n",
    "<h2 style=\"font-family:cursive\"> Precision/Recall Tradeoff </h2>\n",
    "\n",
    "<img src=\"./img/002_1.jpg\" width=\"500px\" length=\"400px\"> </img>\n"
   ]
  },
  {
   "cell_type": "markdown",
   "metadata": {},
   "source": [
    "Asusming in the figure above that downward arrows are thresholds. \n",
    "\n",
    "If the arrow is in the middle we can see that there are 4 True Positives and 1 False Positive while having 2 false negatives. So Precision is 4/5 = 80% while recall is 4/6 = 67%.  \n",
    "\n",
    "Say we want to increase the threshold to the right, which will give us 100% accuracy. However it decreases the recall to 3/6 = 50%.\n",
    "\n",
    "Decreasing threshold will have reverse effect."
   ]
  },
  {
   "cell_type": "code",
   "execution_count": 15,
   "metadata": {},
   "outputs": [
    {
     "data": {
      "text/plain": [
       "2997"
      ]
     },
     "execution_count": 15,
     "metadata": {},
     "output_type": "execute_result"
    }
   ],
   "source": [
    "y_scores = sgd.decision_function(X_train)\n",
    "threshold = 20000 #set threshold\n",
    "y_dig_pred = (y_scores>threshold)\n",
    "sum(y_dig_pred)"
   ]
  },
  {
   "cell_type": "markdown",
   "metadata": {},
   "source": [
    "The code section above tries to evaluate and use threshold to control how many should be considered positive. Increasing threshold reduces recall but increases precision."
   ]
  },
  {
   "cell_type": "code",
   "execution_count": 16,
   "metadata": {},
   "outputs": [],
   "source": [
    "from sklearn.metrics import precision_recall_curve\n",
    "y_scores = cross_val_predict(sgd, X_train, y_train_5, cv=3, method='decision_function')\n",
    "precisions , recalls, thresholds =precision_recall_curve(y_train_5,y_scores)"
   ]
  },
  {
   "cell_type": "code",
   "execution_count": 17,
   "metadata": {},
   "outputs": [
    {
     "data": {
      "image/png": "[encoded data removed]",
      "text/plain": [
       "<Figure size 432x288 with 1 Axes>"
      ]
     },
     "metadata": {
      "needs_background": "light"
     },
     "output_type": "display_data"
    }
   ],
   "source": [
    "import matplotlib.pyplot as plt\n",
    "\n",
    "def plotgraph(precisions, recalls, thresholds):\n",
    "    plt.plot(thresholds, precisions[:-1], 'b--', label='Precision')\n",
    "    plt.plot(thresholds, recalls[:-1], 'g-', label='Recall')\n",
    "    plt.xlabel(\"thresholds\")\n",
    "    plt.legend()\n",
    "    plt.ylim([0,1])\n",
    "\n",
    "plotgraph(precisions, recalls,thresholds)\n",
    "plt.show()"
   ]
  },
  {
   "cell_type": "markdown",
   "metadata": {},
   "source": [
    "You want to find a threshold that gives reasonable precision and recall depending on the use of classifier.  \n",
    "Let's take threshold of 70000."
   ]
  },
  {
   "cell_type": "code",
   "execution_count": 18,
   "metadata": {},
   "outputs": [
    {
     "name": "stdout",
     "output_type": "stream",
     "text": [
      "0.9373050530255771\n",
      "0.5543257701531082\n"
     ]
    }
   ],
   "source": [
    "y_train_pred_90 = (y_scores >70000)\n",
    "# checking precision and recall\n",
    "print(precision_score(y_train_5, y_train_pred_90))\n",
    "print(recall_score(y_train_5,y_train_pred_90))"
   ]
  },
  {
   "cell_type": "markdown",
   "metadata": {},
   "source": [
    "<h2 style=\"font-family: cursive\">ROC Curve</h2>\n"
   ]
  },
  {
   "cell_type": "markdown",
   "metadata": {},
   "source": [
    "[ROC Curve](https://scikit-learn.org/stable/modules/generated/sklearn.metrics.roc_curve.html)  \n",
    "_Receiver Operating Characteristics_. It plots _true positive rate_(recall) against _false positive rate_.  \n",
    "__False Positive Rate__: Ratio of negative instances that are incorrectly classified as positive which can also be written as 1-_True Negative Rate_  \n",
    "__True Negative Rate__: Ratio of negative instances that are correctly classified as negative. Also called _specificity_  \n",
    "Therefore:\n",
    "\\begin{equation*}\n",
    "ROC = \\frac {recall}{1-specificity}\n",
    "\\end{equation*}\n"
   ]
  },
  {
   "cell_type": "code",
   "execution_count": 19,
   "metadata": {},
   "outputs": [
    {
     "data": {
      "image/png": "[encoded data removed]",
      "text/plain": [
       "<Figure size 432x288 with 1 Axes>"
      ]
     },
     "metadata": {
      "needs_background": "light"
     },
     "output_type": "display_data"
    }
   ],
   "source": [
    "from sklearn.metrics import roc_curve\n",
    "fpr,tpr, thresholds = roc_curve(y_train_5, y_scores)\n",
    "\n",
    "def plot_roc(fpr,tpr,label=None):\n",
    "    plt.plot(fpr,tpr)\n",
    "    plt.plot([0,1],[0,1],'k--')\n",
    "    plt.axis([0,1,0,1])\n",
    "    plt.xlabel('False Positive Rate')\n",
    "    plt.ylabel('True Positive Rate')\n",
    "plot_roc(fpr,tpr)\n",
    "plt.show()"
   ]
  },
  {
   "cell_type": "markdown",
   "metadata": {},
   "source": [
    "To compare classifiers, we find the area under the curve. The perfect one should have 1.0 whereas randome ones have around 0.5. "
   ]
  },
  {
   "cell_type": "code",
   "execution_count": 20,
   "metadata": {},
   "outputs": [
    {
     "data": {
      "text/plain": [
       "0.9676074065338337"
      ]
     },
     "execution_count": 20,
     "metadata": {},
     "output_type": "execute_result"
    }
   ],
   "source": [
    "from sklearn.metrics import roc_auc_score # auc = area under the curve\n",
    "roc_auc_score(y_train_5, y_scores)"
   ]
  },
  {
   "cell_type": "markdown",
   "metadata": {},
   "source": [
    "Trying out another type of classifier. [Random Forest](https://scikit-learn.org/stable/modules/generated/sklearn.ensemble.RandomForestClassifier.html)"
   ]
  },
  {
   "cell_type": "code",
   "execution_count": 21,
   "metadata": {},
   "outputs": [
    {
     "data": {
      "text/plain": [
       "array([[1. , 0. ],\n",
       "       [0.8, 0.2],\n",
       "       [0.8, 0.2],\n",
       "       ...,\n",
       "       [1. , 0. ],\n",
       "       [0.5, 0.5],\n",
       "       [1. , 0. ]])"
      ]
     },
     "execution_count": 21,
     "metadata": {},
     "output_type": "execute_result"
    }
   ],
   "source": [
    "from sklearn.ensemble import RandomForestClassifier\n",
    "forest_clf=RandomForestClassifier(random_state=42)\n",
    "y_probs_forest=cross_val_predict(forest_clf, X_train, y_train_5, cv=3, method='predict_proba')\n",
    "y_probs_forest"
   ]
  },
  {
   "cell_type": "code",
   "execution_count": 22,
   "metadata": {},
   "outputs": [
    {
     "data": {
      "image/png": "[encoded data removed]",
      "text/plain": [
       "<Figure size 432x288 with 1 Axes>"
      ]
     },
     "metadata": {
      "needs_background": "light"
     },
     "output_type": "display_data"
    },
    {
     "data": {
      "text/plain": [
       "0.9932851591112516"
      ]
     },
     "execution_count": 22,
     "metadata": {},
     "output_type": "execute_result"
    }
   ],
   "source": [
    "y_scores_forest =y_probs_forest[:,1]\n",
    "fpr_f, tpr_f, threshold_f = roc_curve(y_train_5, y_scores_forest)\n",
    "# plotting to compare between sgd and random forest\n",
    "\n",
    "def plot_forest():\n",
    "    plt.plot(fpr,tpr,'b:',label='SGD')\n",
    "    plt.plot(fpr_f, tpr_f, label='Random Forest')\n",
    "    plt.legend(loc='bottom right')\n",
    "    plt.show()\n",
    "\n",
    "plot_forest()\n",
    "\n",
    "forest_auc_score = roc_auc_score(y_train_5, y_scores_forest)\n",
    "forest_auc_score"
   ]
  },
  {
   "cell_type": "markdown",
   "metadata": {},
   "source": [
    "The way y_probs_forest is structured is that it has 2 probabilities. left one means probability for negative and right is the probability for positive class. Take the positive one because higher probability gives them more tendency to be in the positive class.\n",
    "\n",
    "If you want to do classification from above, check the probability on the right. if >=0.5, categorize as + (True) else -(False). Then we can use it for precision and recall score check.\n",
    "\n"
   ]
  },
  {
   "cell_type": "markdown",
   "metadata": {},
   "source": [
    "<h2 style='font-family:cursive'>Multiclass Classification</h2>"
   ]
  },
  {
   "cell_type": "markdown",
   "metadata": {},
   "source": [
    "Ability for classifier to distinguish more than 2 classes.  \n",
    "\n",
    "Some classifiers can handle multiple classes, however some can only do specifically on binary classes. But using binary, we can also do multiple classes by doing combination. There would be 2 strategies that can work. We will try the case of classifying 10 digits of numbers.  \n",
    "\n",
    "__OvA__: _One Versus All_. We will create 10 binary classifiers for each digit. So to classify an image, get decision score from each of the 10 binary classifiers, then select which classifier gives the highest score. Each binary classifier mean that you will only take the positive one and compare that score.\n",
    "\n",
    "__OvO__: _One Versus One_. For N classes, the classifiers to be created is:\n",
    "\\begin{equation*}\n",
    "n = {N \\choose 2}\n",
    "\\end{equation*}  \n",
    "In the example of digits, with 10 classes we need to create 45 classes. During testing, it would usually be tedious to pass the image to all 45 classifiers before knowing whcih class it belongs to. One advantage would be that the training set only need to be passed to the specific classifier. For example: an image labelled as 3 should be passed to only classifiers that is comparing the classifier of 3 and some other (ex. 1&3, 2&3 ,..).  \n",
    "\n",
    "OvO will be necessary for certain algorithms that doesn't scale well with huge size of training set.  \n"
   ]
  },
  {
   "cell_type": "code",
   "execution_count": 23,
   "metadata": {},
   "outputs": [
    {
     "data": {
      "text/plain": [
       "SGDClassifier(alpha=0.0001, average=False, class_weight=None,\n",
       "       early_stopping=False, epsilon=0.1, eta0=0.0, fit_intercept=True,\n",
       "       l1_ratio=0.15, learning_rate='optimal', loss='hinge', max_iter=None,\n",
       "       n_iter=None, n_iter_no_change=5, n_jobs=None, penalty='l2',\n",
       "       power_t=0.5, random_state=42, shuffle=True, tol=None,\n",
       "       validation_fraction=0.1, verbose=0, warm_start=False)"
      ]
     },
     "execution_count": 23,
     "metadata": {},
     "output_type": "execute_result"
    }
   ],
   "source": [
    "sgd.fit(X_train,y_train) # now only y_train not y_train_5 because we want to do 10 classes instead of 2."
   ]
  },
  {
   "cell_type": "code",
   "execution_count": 24,
   "metadata": {},
   "outputs": [
    {
     "data": {
      "text/plain": [
       "array([6., 3., 0., ..., 6., 8., 3.])"
      ]
     },
     "execution_count": 24,
     "metadata": {},
     "output_type": "execute_result"
    }
   ],
   "source": [
    "predictions = sgd.predict(X_train)\n",
    "predictions # contain 60000 results"
   ]
  },
  {
   "cell_type": "code",
   "execution_count": 25,
   "metadata": {},
   "outputs": [
    {
     "name": "stdout",
     "output_type": "stream",
     "text": [
      "[[  733712.76112508 -1138955.66499608  -766241.36324891  -530402.39149608\n",
      "   -480306.33508923  -358698.01405086  -890391.31123019  -436346.38103806\n",
      "   -246765.70319426  -274910.11323699]]\n"
     ]
    }
   ],
   "source": [
    "sample = 2001 # can adjust the sample\n",
    "score = sgd.decision_function(X_train[sample].reshape(1,-1))\n",
    "print(score)"
   ]
  },
  {
   "cell_type": "code",
   "execution_count": 26,
   "metadata": {},
   "outputs": [
    {
     "data": {
      "text/plain": [
       "0.0"
      ]
     },
     "execution_count": 26,
     "metadata": {},
     "output_type": "execute_result"
    }
   ],
   "source": [
    "# to get which class it belongs to \n",
    "classes=sgd.classes_\n",
    "classes[np.argmax(score)]"
   ]
  },
  {
   "cell_type": "markdown",
   "metadata": {},
   "source": [
    "_np.argmax()_ gives the index of the largest score in the array. _classes_ attribute is ordered by value. The index of each class matches the class itself. However we can also force the classifier to be either OvO or OvA.\n",
    "[One Vs One Classifier](https://scikit-learn.org/stable/modules/generated/sklearn.multiclass.OneVsOneClassifier.html)"
   ]
  },
  {
   "cell_type": "code",
   "execution_count": 27,
   "metadata": {},
   "outputs": [
    {
     "data": {
      "text/plain": [
       "OneVsOneClassifier(estimator=SGDClassifier(alpha=0.0001, average=False, class_weight=None,\n",
       "       early_stopping=False, epsilon=0.1, eta0=0.0, fit_intercept=True,\n",
       "       l1_ratio=0.15, learning_rate='optimal', loss='hinge', max_iter=None,\n",
       "       n_iter=None, n_iter_no_change=5, n_jobs=None, penalty='l2',\n",
       "       power_t=0.5, random_state=42, shuffle=True, tol=None,\n",
       "       validation_fraction=0.1, verbose=0, warm_start=False),\n",
       "          n_jobs=None)"
      ]
     },
     "execution_count": 27,
     "metadata": {},
     "output_type": "execute_result"
    }
   ],
   "source": [
    "from sklearn.multiclass import OneVsOneClassifier\n",
    "ovo_clf=OneVsOneClassifier(SGDClassifier(random_state=42))\n",
    "ovo_clf.fit(X_train,y_train)"
   ]
  },
  {
   "cell_type": "code",
   "execution_count": 28,
   "metadata": {},
   "outputs": [
    {
     "name": "stdout",
     "output_type": "stream",
     "text": [
      "there are 45 estimators\n"
     ]
    }
   ],
   "source": [
    "ovo_clf.predict(X_train[sample].reshape(1,-1)) # can change sample ( or to a range of instances)\n",
    "est_num = len(ovo_clf.estimators_)\n",
    "print(\"there are {} estimators\".format(est_num))"
   ]
  },
  {
   "cell_type": "markdown",
   "metadata": {},
   "source": [
    "Using Random Forest Classifier"
   ]
  },
  {
   "cell_type": "code",
   "execution_count": 29,
   "metadata": {},
   "outputs": [
    {
     "data": {
      "text/plain": [
       "RandomForestClassifier(bootstrap=True, class_weight=None, criterion='gini',\n",
       "            max_depth=None, max_features='auto', max_leaf_nodes=None,\n",
       "            min_impurity_decrease=0.0, min_impurity_split=None,\n",
       "            min_samples_leaf=1, min_samples_split=2,\n",
       "            min_weight_fraction_leaf=0.0, n_estimators=10, n_jobs=None,\n",
       "            oob_score=False, random_state=42, verbose=0, warm_start=False)"
      ]
     },
     "execution_count": 29,
     "metadata": {},
     "output_type": "execute_result"
    }
   ],
   "source": [
    "forest_clf.fit(X_train, y_train)"
   ]
  },
  {
   "cell_type": "markdown",
   "metadata": {},
   "source": [
    "We can immediately predict with"
   ]
  },
  {
   "cell_type": "code",
   "execution_count": 30,
   "metadata": {},
   "outputs": [
    {
     "data": {
      "text/plain": [
       "array([0.])"
      ]
     },
     "execution_count": 30,
     "metadata": {},
     "output_type": "execute_result"
    }
   ],
   "source": [
    "forest_clf.predict(X_train[sample].reshape(1,-1))"
   ]
  },
  {
   "cell_type": "code",
   "execution_count": 31,
   "metadata": {},
   "outputs": [
    {
     "data": {
      "text/plain": [
       "array([0.874975  , 0.85154258, 0.84507676])"
      ]
     },
     "execution_count": 31,
     "metadata": {},
     "output_type": "execute_result"
    }
   ],
   "source": [
    "forest_clf.predict_proba(X_test[1234].reshape(1,-1))\n",
    "cross_val_score(sgd, X_train, y_train, cv=3, scoring='accuracy')"
   ]
  },
  {
   "cell_type": "markdown",
   "metadata": {},
   "source": [
    "We can scale the inputs first using [standard scaler](https://scikit-learn.org/stable/modules/generated/sklearn.preprocessing.StandardScaler.html)"
   ]
  },
  {
   "cell_type": "code",
   "execution_count": 32,
   "metadata": {},
   "outputs": [
    {
     "data": {
      "text/plain": [
       "array([0.91071786, 0.91074554, 0.90908636])"
      ]
     },
     "execution_count": 32,
     "metadata": {},
     "output_type": "execute_result"
    }
   ],
   "source": [
    "from sklearn.preprocessing import StandardScaler\n",
    "scaler=StandardScaler()\n",
    "X_train_scaled = scaler.fit_transform(X_train.astype(np.float64))\n",
    "cross_val_score(sgd,X_train_scaled,y_train,cv=3,scoring='accuracy')"
   ]
  },
  {
   "cell_type": "markdown",
   "metadata": {},
   "source": [
    "<h2 style='font-family:cursive'>Error Analysis</h2>\n",
    "\n",
    "To improve model, we do error analysis to see which errors it often makes.  \n",
    "We will look into confusion matrix."
   ]
  },
  {
   "cell_type": "code",
   "execution_count": 33,
   "metadata": {},
   "outputs": [
    {
     "data": {
      "text/plain": [
       "array([6., 3., 4., ..., 6., 5., 9.])"
      ]
     },
     "execution_count": 33,
     "metadata": {},
     "output_type": "execute_result"
    }
   ],
   "source": [
    "predictions=cross_val_predict(sgd, X_train_scaled,y_train,cv=3)\n",
    "predictions"
   ]
  },
  {
   "cell_type": "code",
   "execution_count": 34,
   "metadata": {},
   "outputs": [
    {
     "data": {
      "text/plain": [
       "array([[5735,    3,   20,    9,   12,   46,   47,    7,   39,    5],\n",
       "       [   2, 6447,   46,   28,    6,   45,    5,   11,  142,   10],\n",
       "       [  56,   36, 5331,   97,   84,   26,   85,   54,  170,   19],\n",
       "       [  41,   40,  148, 5361,    1,  218,   32,   60,  142,   88],\n",
       "       [  19,   27,   31,    8, 5382,   11,   47,   25,   84,  208],\n",
       "       [  73,   47,   38,  192,   68, 4598,   99,   24,  178,  104],\n",
       "       [  33,   26,   48,    2,   39,   89, 5623,    5,   53,    0],\n",
       "       [  27,   18,   67,   37,   61,   10,    6, 5799,   15,  225],\n",
       "       [  48,  135,   73,  154,   17,  150,   47,   27, 5069,  131],\n",
       "       [  42,   36,   27,   88,  167,   34,    3,  207,   79, 5266]])"
      ]
     },
     "execution_count": 34,
     "metadata": {},
     "output_type": "execute_result"
    }
   ],
   "source": [
    "conf_matrix=confusion_matrix(y_train,predictions)\n",
    "conf_matrix"
   ]
  },
  {
   "cell_type": "markdown",
   "metadata": {},
   "source": [
    "Can do image representation of confusion matrix using [matshow()](https://matplotlib.org/3.1.1/api/_as_gen/matplotlib.pyplot.matshow.html)"
   ]
  },
  {
   "cell_type": "code",
   "execution_count": 35,
   "metadata": {},
   "outputs": [
    {
     "data": {
      "image/png": "[encoded data removed]",
      "text/plain": [
       "<Figure size 288x288 with 1 Axes>"
      ]
     },
     "metadata": {
      "needs_background": "light"
     },
     "output_type": "display_data"
    }
   ],
   "source": [
    "plt.matshow(conf_matrix, cmap=plt.cm.gray)\n",
    "plt.show()"
   ]
  },
  {
   "cell_type": "markdown",
   "metadata": {},
   "source": [
    "The important point is that the diagonal are all in white which means that the image is classified correctly. If image is darker, it means that there are fewer images that belong to that class or that the classifier misclassify it (bad at classifying that number) or possibly both.  \n",
    "\n",
    "First error check is dividing each value in confusion matrix by total number of images in actual class (each row). We get the error rates. "
   ]
  },
  {
   "cell_type": "code",
   "execution_count": 36,
   "metadata": {},
   "outputs": [
    {
     "name": "stdout",
     "output_type": "stream",
     "text": [
      "[[5923]\n",
      " [6742]\n",
      " [5958]\n",
      " [6131]\n",
      " [5842]\n",
      " [5421]\n",
      " [5918]\n",
      " [6265]\n",
      " [5851]\n",
      " [5949]]\n",
      "[[9.68259328e-01 5.06500084e-04 3.37666723e-03 1.51950025e-03\n",
      "  2.02600034e-03 7.76633463e-03 7.93516799e-03 1.18183353e-03\n",
      "  6.58450110e-03 8.44166807e-04]\n",
      " [2.96647879e-04 9.56244438e-01 6.82290122e-03 4.15307031e-03\n",
      "  8.89943637e-04 6.67457728e-03 7.41619697e-04 1.63156333e-03\n",
      "  2.10619994e-02 1.48323939e-03]\n",
      " [9.39912722e-03 6.04229607e-03 8.94763343e-01 1.62806311e-02\n",
      "  1.40986908e-02 4.36388050e-03 1.42665324e-02 9.06344411e-03\n",
      "  2.85330648e-02 3.18898959e-03]\n",
      " [6.68732670e-03 6.52422117e-03 2.41396183e-02 8.74408742e-01\n",
      "  1.63105529e-04 3.55570054e-02 5.21937694e-03 9.78633176e-03\n",
      "  2.31609852e-02 1.43532866e-02]\n",
      " [3.25231085e-03 4.62170490e-03 5.30640192e-03 1.36939404e-03\n",
      "  9.21259843e-01 1.88291681e-03 8.04519000e-03 4.27935638e-03\n",
      "  1.43786375e-02 3.56042451e-02]\n",
      " [1.34661502e-02 8.66998709e-03 7.00977679e-03 3.54178196e-02\n",
      "  1.25438111e-02 8.48182992e-01 1.82623132e-02 4.42722745e-03\n",
      "  3.28352702e-02 1.91846523e-02]\n",
      " [5.57620818e-03 4.39337614e-03 8.11084826e-03 3.37952011e-04\n",
      "  6.59006421e-03 1.50388645e-02 9.50152078e-01 8.44880027e-04\n",
      "  8.95572829e-03 0.00000000e+00]\n",
      " [4.30965682e-03 2.87310455e-03 1.06943336e-02 5.90582602e-03\n",
      "  9.73663208e-03 1.59616919e-03 9.57701516e-04 9.25618516e-01\n",
      "  2.39425379e-03 3.59138069e-02]\n",
      " [8.20372586e-03 2.30729790e-02 1.24764997e-02 2.63202871e-02\n",
      "  2.90548624e-03 2.56366433e-02 8.03281490e-03 4.61459580e-03\n",
      "  8.66347633e-01 2.23893352e-02]\n",
      " [7.06001009e-03 6.05143722e-03 4.53857791e-03 1.47924021e-02\n",
      "  2.80719449e-02 5.71524626e-03 5.04286435e-04 3.47957640e-02\n",
      "  1.32795428e-02 8.85190788e-01]]\n"
     ]
    }
   ],
   "source": [
    "row_sum=conf_matrix.sum(axis=1,keepdims=True)\n",
    "print(row_sum)\n",
    "normalized_conf_matrix = conf_matrix/row_sum\n",
    "print(normalized_conf_matrix)"
   ]
  },
  {
   "cell_type": "markdown",
   "metadata": {},
   "source": [
    "By using [keepdims](https://docs.scipy.org/doc/numpy-1.13.0/reference/generated/numpy.sum.html), we keep the dimension the same. In the example above, you add up the row, we keep it to nx1 dimension.  \n",
    "\n",
    "We make the confusion matrix a little bit different this time."
   ]
  },
  {
   "cell_type": "code",
   "execution_count": 37,
   "metadata": {},
   "outputs": [
    {
     "data": {
      "image/png": "[encoded data removed]",
      "text/plain": [
       "<Figure size 288x288 with 1 Axes>"
      ]
     },
     "metadata": {
      "needs_background": "light"
     },
     "output_type": "display_data"
    }
   ],
   "source": [
    "np.fill_diagonal(normalized_conf_matrix,0)\n",
    "plt.matshow(normalized_conf_matrix, cmap=plt.cm.gray)\n",
    "plt.show()"
   ]
  },
  {
   "cell_type": "markdown",
   "metadata": {},
   "source": [
    "Now that diagonal is all 0, which means it's all black, the perfect image of matrix would be if all is black. If there is a row or column that contains many light block, means that the classifier isnt doing such a great job.  \n",
    "\n",
    "We see in row 8 and 9 there is abundant light squares. This means that a lot of 8 and 9 images are misclassified. The column 8 and 9 are also abundantly light which means that a lot of images are classified as an 8 or 9. We can interpret the quality of classifier roughly from the image of the matrix.  \n",
    "\n",
    "To improve, we can add more training data to the classifier especially for ones that gets misclassified a lot. We can also preprocess the images first or add new features (algorithm) to classifier to better differentiate figures. Example: number of closed loops, 8 has 2, 6 has 1,...   \n",
    "\n",
    "We can also analyze individual errors to gain insight on the classifier. "
   ]
  },
  {
   "cell_type": "markdown",
   "metadata": {},
   "source": [
    "## <a id=\"multilabel_classification\">Multilabel Classification</a>\n",
    "\n",
    "We sometimes want classifier to output multiple classes for each instance. Example is if there is a picture consisting of 3 people. It should give label for each person. Say if each classifier has been trained to recognize three faces : Alice, Bob, Charlie. So if there is a picture of Alice and Charlie, it should output (1,0,1). Then the classification output multiple binary labels.  \n"
   ]
  },
  {
   "cell_type": "code",
   "execution_count": 38,
   "metadata": {},
   "outputs": [
    {
     "data": {
      "text/plain": [
       "KNeighborsClassifier(algorithm='auto', leaf_size=30, metric='minkowski',\n",
       "           metric_params=None, n_jobs=None, n_neighbors=5, p=2,\n",
       "           weights='uniform')"
      ]
     },
     "execution_count": 38,
     "metadata": {},
     "output_type": "execute_result"
    }
   ],
   "source": [
    "from sklearn.neighbors import KNeighborsClassifier\n",
    "\n",
    "y_train_large = (y_train>=7)\n",
    "y_train_odd = (y_train%2 == 1)\n",
    "y_multilabel = np.c_[y_train_large,y_train_odd]\n",
    "knn_clf = KNeighborsClassifier()\n",
    "knn_clf.fit(X_train, y_multilabel)"
   ]
  },
  {
   "cell_type": "code",
   "execution_count": 39,
   "metadata": {},
   "outputs": [
    {
     "data": {
      "text/plain": [
       "array([[ True,  True]])"
      ]
     },
     "execution_count": 39,
     "metadata": {},
     "output_type": "execute_result"
    }
   ],
   "source": [
    "knn_clf.predict(X_train[20].reshape(1,-1)) # sample"
   ]
  },
  {
   "cell_type": "markdown",
   "metadata": {},
   "source": [
    "## <a id='multioutput_classification'>Multioutput Classification</a>"
   ]
  },
  {
   "cell_type": "code",
   "execution_count": null,
   "metadata": {},
   "outputs": [],
   "source": []
  }
 ],
 "metadata": {
  "kernelspec": {
   "display_name": "Python 3",
   "language": "python",
   "name": "python3"
  },
  "language_info": {
   "codemirror_mode": {
    "name": "ipython",
    "version": 3
   },
   "file_extension": ".py",
   "mimetype": "text/x-python",
   "name": "python",
   "nbconvert_exporter": "python",
   "pygments_lexer": "ipython3",
   "version": "3.6.5"
  }
 },
 "nbformat": 4,
 "nbformat_minor": 2
}
