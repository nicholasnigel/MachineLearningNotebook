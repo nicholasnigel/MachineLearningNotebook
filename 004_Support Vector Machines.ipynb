{
 "cells": [
  {
   "cell_type": "markdown",
   "metadata": {},
   "source": [
    "# Support Vector Machines  \n",
    "\n",
    "SVM is capable of performing linear or nonlinear classificatio, regression and even outlier detection. It is suitable for classification of the complex and small-medium size of dataset.\n",
    "\n",
    "Topics:  \n",
    "1. [Linear SVM Classification](#linear_svm_classification)\n",
    "2. [Non-Linear SVM Classification](#nonlinear_svm)\n",
    "3. [SVM Regression](#svm_regression)\n",
    "4. [Analysis on SVM](#analysis)"
   ]
  },
  {
   "cell_type": "markdown",
   "metadata": {},
   "source": [
    "## <a id='linear_svm_classification'>Linear SVM Classification</a>\n",
    "\n",
    "<img src='img/004_1.jpg' width=600px>\n"
   ]
  },
  {
   "cell_type": "markdown",
   "metadata": {},
   "source": [
    "If 2 classes are linearly separable, the 2 classes can be separated by a straight line. On the picture on the left plot, the dashed line does not even separate the 2 classes. However, the remaining 2 is separating. If we look closely, the 2 lines (decision boundary) seem to be very tight/close to the instances. If we decide to use this, the model will perform badly on new instances.  \n",
    "\n",
    "On the right plot, the solid line is the decision boundary of an SVM classifier. It not only separates the 2 classes, it also is separated quite far away from the training instances. It leaves wide spaces in between the line and the rest of training instances. This is called _large margin classification_.  \n",
    "\n",
    "On another note, SVM is also sensitive to feature scaling. Decision boundary would much look better when the features are scaled, i.e. using StandardScaler."
   ]
  },
  {
   "cell_type": "markdown",
   "metadata": {},
   "source": [
    "### Soft Margin Classification\n",
    "\n",
    "_Hard Margin Classification_ is when the line divide the 2 classes stictly and the instances are divided exactly. Problem with hard margin classification is that data has to be linearly separable and that is is sensitive to outliers.  \n",
    "\n",
    "<img src='img/004_2.jpg'>"
   ]
  },
  {
   "cell_type": "markdown",
   "metadata": {},
   "source": [
    "On the left plot, we see that one class is mixed up with the other class. Now it becomes linearly inseparable. On the right plot, we see thatthe outlier causes the line to be different from the image before. Because of this, later on the model may be proven to be inefficient in predicting new instances.  \n",
    "\n",
    "To avoid big errors from hard margin classification, we have the soft margin classification which is a balance of keeping the 'street' as large as possible mean while making as little margin violations as possible. (Margin violations are like the misclassified instances, or outlier where it is within the margins.  \n",
    "\n",
    "For scikit learn, we can control this using C hyperparameter. It will control the tradeoff between wider street and the margin violations. Smaller C means wider street but more margin violations."
   ]
  },
  {
   "cell_type": "code",
   "execution_count": 1,
   "metadata": {},
   "outputs": [
    {
     "data": {
      "text/plain": [
       "Pipeline(memory=None,\n",
       "     steps=[('scaler', StandardScaler(copy=True, with_mean=True, with_std=True)), ('linear_svc', LinearSVC(C=1, class_weight=None, dual=True, fit_intercept=True,\n",
       "     intercept_scaling=1, loss='hinge', max_iter=1000, multi_class='ovr',\n",
       "     penalty='l2', random_state=None, tol=0.0001, verbose=0))])"
      ]
     },
     "execution_count": 1,
     "metadata": {},
     "output_type": "execute_result"
    }
   ],
   "source": [
    "import numpy as np\n",
    "from sklearn import datasets\n",
    "from sklearn.pipeline import Pipeline\n",
    "from sklearn.preprocessing import StandardScaler\n",
    "from sklearn.svm import LinearSVC\n",
    "\n",
    "iris = datasets.load_iris()\n",
    "X = iris['data'][:,(2,3)] # petal length and petal width\n",
    "y = (iris['target']==2).astype(np.float64) # Iris-Virginica or not\n",
    "\n",
    "svm_clf = Pipeline([\n",
    "    ('scaler', StandardScaler()),\n",
    "    ('linear_svc', LinearSVC(C=1, loss='hinge'))\n",
    "])\n",
    "\n",
    "svm_clf.fit(X,y)"
   ]
  },
  {
   "cell_type": "code",
   "execution_count": 2,
   "metadata": {},
   "outputs": [
    {
     "data": {
      "text/plain": [
       "array([1.])"
      ]
     },
     "execution_count": 2,
     "metadata": {},
     "output_type": "execute_result"
    }
   ],
   "source": [
    "svm_clf.predict([[5.5, 1.7]])"
   ]
  },
  {
   "cell_type": "code",
   "execution_count": 3,
   "metadata": {},
   "outputs": [
    {
     "data": {
      "text/plain": [
       "[<matplotlib.lines.Line2D at 0x107a121d0>,\n",
       " <matplotlib.lines.Line2D at 0x118c5f240>]"
      ]
     },
     "execution_count": 3,
     "metadata": {},
     "output_type": "execute_result"
    }
   ],
   "source": [
    "import matplotlib.pyplot as plt\n",
    "plt.plot(X[y==1], 'r.')\n",
    "plt.plot(X[y==0], 'b.')"
   ]
  },
  {
   "cell_type": "markdown",
   "metadata": {},
   "source": [
    "## <a id='nonlinear_svm'>Nonlinear SVM Classification</a>\n",
    "\n",
    "Not all datasets are necessarily linearly separable. If dataset is not linearly separable, one method we can use is to add some features from the datasets using existing features (i.e. polynomial features)."
   ]
  },
  {
   "cell_type": "code",
   "execution_count": 4,
   "metadata": {},
   "outputs": [
    {
     "data": {
      "text/plain": [
       "Pipeline(memory=None,\n",
       "     steps=[('poly_features', PolynomialFeatures(degree=3, include_bias=True, interaction_only=False)), ('scaler', StandardScaler(copy=True, with_mean=True, with_std=True)), ('svm_clf', LinearSVC(C=10, class_weight=None, dual=True, fit_intercept=True,\n",
       "     intercept_scaling=1, loss='hinge', max_iter=1000, multi_class='ovr',\n",
       "     penalty='l2', random_state=None, tol=0.0001, verbose=0))])"
      ]
     },
     "execution_count": 4,
     "metadata": {},
     "output_type": "execute_result"
    }
   ],
   "source": [
    "from sklearn.pipeline import Pipeline\n",
    "from sklearn.preprocessing import PolynomialFeatures\n",
    "\n",
    "poly_svm_clf = Pipeline([\n",
    "    ('poly_features', PolynomialFeatures(degree=3)),\n",
    "    ('scaler', StandardScaler()),\n",
    "    ('svm_clf', LinearSVC(C=10, loss='hinge'))\n",
    "])\n",
    "\n",
    "poly_svm_clf.fit(X,y)"
   ]
  },
  {
   "cell_type": "markdown",
   "metadata": {},
   "source": [
    "### Polynomial Kernel\n",
    "\n",
    "Eventhough the above implementation uses polynomial features, there might be a disadvantage of usign _PolynomialFeatures_ method. With low degree, it can't deal with complex datasets. With too high of degree, it creates way too many features and affect the model processing time. (Very long time to fit data). \n",
    "\n",
    "There is an alternative of pipelining with PolynomialFeatures, namely the svm implemented polynomial kernel. "
   ]
  },
  {
   "cell_type": "code",
   "execution_count": 5,
   "metadata": {},
   "outputs": [
    {
     "data": {
      "text/plain": [
       "Pipeline(memory=None,\n",
       "     steps=[('scaler', StandardScaler(copy=True, with_mean=True, with_std=True)), ('svm_clf', SVC(C=5, cache_size=200, class_weight=None, coef0=1,\n",
       "  decision_function_shape='ovr', degree=3, gamma='auto_deprecated',\n",
       "  kernel='poly', max_iter=-1, probability=False, random_state=None,\n",
       "  shrinking=True, tol=0.001, verbose=False))])"
      ]
     },
     "execution_count": 5,
     "metadata": {},
     "output_type": "execute_result"
    }
   ],
   "source": [
    "from sklearn.datasets import make_moons\n",
    "from sklearn.svm import SVC\n",
    "poly_kernel_svm_clf = Pipeline([\n",
    "    ('scaler', StandardScaler()),\n",
    "    ('svm_clf', SVC(kernel='poly', degree=3, coef0=1, C=5))\n",
    "])\n",
    "poly_kernel_svm_clf.fit(X,y)"
   ]
  },
  {
   "cell_type": "markdown",
   "metadata": {},
   "source": [
    "### Similarity Features\n",
    "\n",
    "Add features that is computed through similarity function. Similarity function measures how much each instance resembles a particular _landmark_. \n",
    "\n",
    "One of the choice of similarity function is __Gaussian Radial Basis Function__.\n",
    "\n",
    "<img src='img/004_3.jpg'></img>\n",
    "\n",
    "We cacn decide on the $\\gamma$ ourselves to control the shape of curve. For each landmark we decide on, compute it with this equation and that would be the new feature of the data. If we're lucky enough, the data would then become linearly separable (without considering the original feature). \n",
    "\n",
    "Simplest approach to decide on the landmark is that we create landmark at the location of each and every instance in the dataset. But this may create too many dimensions (eventhough the chances of getting linearly separable data is higher). If we have _m_ instances and _n_ features, the transformed data become _m_ instances and _m_ features (after dropping original features). So this approach does not scale well with the number of training instances. "
   ]
  },
  {
   "cell_type": "markdown",
   "metadata": {},
   "source": [
    "### Gaussian RBF Kernel\n",
    "\n"
   ]
  },
  {
   "cell_type": "code",
   "execution_count": 6,
   "metadata": {},
   "outputs": [
    {
     "data": {
      "text/plain": [
       "<matplotlib.legend.Legend at 0x11ace17b8>"
      ]
     },
     "execution_count": 6,
     "metadata": {},
     "output_type": "execute_result"
    },
    {
     "data": {
      "image/png": "[encoded data removed]",
      "text/plain": [
       "<Figure size 432x288 with 1 Axes>"
      ]
     },
     "metadata": {
      "needs_background": "light"
     },
     "output_type": "display_data"
    }
   ],
   "source": [
    "# Comparing different gamma\n",
    "x = np.linspace(-5,5)\n",
    "y1 = np.exp( -3 * (x-2)**2)\n",
    "y2 = np.exp( -10 * (x-2)**2 )\n",
    "plt.plot(x,y1,label='gamma=3')\n",
    "plt.plot(x,y2, label='gamma=10')\n",
    "plt.legend()"
   ]
  },
  {
   "cell_type": "markdown",
   "metadata": {},
   "source": [
    "It can be proven here, that with bigger gamma, the curvature is much smaller.  \n",
    "\n",
    "Polynomial features is computationally expensive and does not scale well with large training sets. The hyperparameter that we can tweak with is the $\\gamma$ and C.  \n",
    "\n",
    "Increasing $\\gamma$ produces narrower curve, instance's range of influence is smaller, and so the decision boundary is more irregular.\n",
    "\n",
    "$\\gamma$ is therefore like a regularization hyperparameter, so we can tweak with it to control when the model is overfitting or underfitting. If model is overfitting, we reduce the $\\gamma$ and the inverse situation also works."
   ]
  },
  {
   "cell_type": "markdown",
   "metadata": {},
   "source": [
    "## <a id='svm_regression'>SVM Regression</a>\n",
    "\n",
    "For earlier SVM classification we try to fit largest possible street in between 2 classes and limit margin violations. SVM regression is the opposite of it, which is to fit as many instances on the street while limiting the margin violations. \n",
    "\n",
    "The width is controlled by hyperparameter $\\epsilon$. Comparing the effect of large and small margin:\n",
    "<img src='img/004_4.jpg'></img>.\n",
    "\n"
   ]
  },
  {
   "cell_type": "code",
   "execution_count": 7,
   "metadata": {},
   "outputs": [
    {
     "data": {
      "text/plain": [
       "LinearSVR(C=1.0, dual=True, epsilon=1.5, fit_intercept=True,\n",
       "     intercept_scaling=1.0, loss='epsilon_insensitive', max_iter=1000,\n",
       "     random_state=None, tol=0.0001, verbose=0)"
      ]
     },
     "execution_count": 7,
     "metadata": {},
     "output_type": "execute_result"
    }
   ],
   "source": [
    "from sklearn.svm import LinearSVR\n",
    "\n",
    "svm_reg = LinearSVR(epsilon=1.5)\n",
    "svm_reg.fit(X,y)"
   ]
  },
  {
   "cell_type": "markdown",
   "metadata": {},
   "source": [
    "For non-linear regression, we can use the poly='kernel' method again. To control the margin errors (for regularization) we try different value of C."
   ]
  },
  {
   "cell_type": "code",
   "execution_count": 8,
   "metadata": {},
   "outputs": [
    {
     "name": "stderr",
     "output_type": "stream",
     "text": [
      "/Users/nigelnicholas/Library/Python/3.6/lib/python/site-packages/sklearn/svm/base.py:196: FutureWarning: The default value of gamma will change from 'auto' to 'scale' in version 0.22 to account better for unscaled features. Set gamma explicitly to 'auto' or 'scale' to avoid this warning.\n",
      "  \"avoid this warning.\", FutureWarning)\n"
     ]
    },
    {
     "data": {
      "text/plain": [
       "SVR(C=100, cache_size=200, coef0=0.0, degree=2, epsilon=0.1,\n",
       "  gamma='auto_deprecated', kernel='poly', max_iter=-1, shrinking=True,\n",
       "  tol=0.001, verbose=False)"
      ]
     },
     "execution_count": 8,
     "metadata": {},
     "output_type": "execute_result"
    }
   ],
   "source": [
    "from sklearn.svm import SVR\n",
    "\n",
    "svm_poly_reg = SVR(kernel='poly', degree=2, C=100, epsilon=0.1)\n",
    "svm_poly_reg.fit(X,y)"
   ]
  },
  {
   "cell_type": "markdown",
   "metadata": {},
   "source": [
    "## <a id='analysis'>Analysis on SVM</a>"
   ]
  },
  {
   "cell_type": "markdown",
   "metadata": {},
   "source": [
    "This section is the analysis on what happens under the SVM Classification/Regression.  \n",
    "Notations used:  \n",
    "b : bias term  \n",
    "w : features weight vector\n",
    "\n",
    "Then decision function would look like:  \n",
    "$$\n",
    "\\hat{y} = w^Tx+b\n",
    "$$\n",
    "\n",
    "The decision function then would decide whether the instance is a positive class or negative class. If result of decision function is positive, it would result to positive class as well. \n",
    "\n",
    "<img src='img/004_5.jpg'>"
   ]
  },
  {
   "cell_type": "markdown",
   "metadata": {},
   "source": [
    "The decision boundary would be the set of points whose h function produces to be 0. Decision boundary is the line that is caused by the intersection between the h function and plane.  \n",
    "\n",
    "Then the dashed line represent the h=1 or h=-1. It is of equal distance from the decision boundary and it forms the margin around it.  \n",
    "\n",
    "So objective of the training would be to later on finding the value of w and b making the margin as wide as possible while minimizing margin violations. "
   ]
  },
  {
   "cell_type": "markdown",
   "metadata": {},
   "source": [
    "### Objective of Training\n",
    "\n"
   ]
  },
  {
   "cell_type": "markdown",
   "metadata": {},
   "source": [
    "One thing we can observe is that that if divide the slope by 2, it will multiply margin by 2. Smaller the weight vector w, the larger the margin will be.  \n",
    "<img src='img/004_6.jpg'>\n"
   ]
  },
  {
   "cell_type": "code",
   "execution_count": null,
   "metadata": {},
   "outputs": [],
   "source": []
  }
 ],
 "metadata": {
  "kernelspec": {
   "display_name": "Python 3",
   "language": "python",
   "name": "python3"
  },
  "language_info": {
   "codemirror_mode": {
    "name": "ipython",
    "version": 3
   },
   "file_extension": ".py",
   "mimetype": "text/x-python",
   "name": "python",
   "nbconvert_exporter": "python",
   "pygments_lexer": "ipython3",
   "version": "3.6.5"
  }
 },
 "nbformat": 4,
 "nbformat_minor": 2
}
