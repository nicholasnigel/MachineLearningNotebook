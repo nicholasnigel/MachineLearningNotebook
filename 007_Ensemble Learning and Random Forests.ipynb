{
 "cells": [
  {
   "cell_type": "markdown",
   "metadata": {},
   "source": [
    "# Ensemble Learning and Random Forests\n",
    "\n",
    "_wisdom of the crowd_: an aggregated answer is better than expert's answer. Power of majority.  \n",
    "With this concept, imagine having a few predictors and the predictors produce answers, if majority predicts a certain value(answer), you should be more confident in choosing that answer.  \n",
    "_ensemble_: group of predictors, and the learning will be called _ensemble learning_.\n",
    "\n",
    "Ex: Having a group of Decision Tree classifiers, each on different random subset of the training set. Given a sample test case, make predictions for each classifiers, then predict the class that gets more votes. This ensemble of decision trees is called a __Random Forest__.\n"
   ]
  },
  {
   "cell_type": "markdown",
   "metadata": {},
   "source": [
    "## Topics\n",
    "\n",
    "1. [Voting Classifiers](#1)\n"
   ]
  },
  {
   "cell_type": "markdown",
   "metadata": {},
   "source": [
    "## <a id='1'>Voting Classifiers</a>\n",
    "\n"
   ]
  },
  {
   "cell_type": "code",
   "execution_count": null,
   "metadata": {},
   "outputs": [],
   "source": []
  }
 ],
 "metadata": {
  "kernelspec": {
   "display_name": "Python 3",
   "language": "python",
   "name": "python3"
  },
  "language_info": {
   "codemirror_mode": {
    "name": "ipython",
    "version": 3
   },
   "file_extension": ".py",
   "mimetype": "text/x-python",
   "name": "python",
   "nbconvert_exporter": "python",
   "pygments_lexer": "ipython3",
   "version": "3.6.5"
  }
 },
 "nbformat": 4,
 "nbformat_minor": 2
}
