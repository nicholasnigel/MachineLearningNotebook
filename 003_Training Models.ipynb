{
 "cells": [
  {
   "cell_type": "markdown",
   "metadata": {},
   "source": [
    "# <a id='title'>Training Models</a>\n",
    "\n",
    "Directories\n",
    "1. [Linear Regression](#linear_regression)\n",
    "2. [Gradient Descent](#gradient_descent)\n",
    "3. [Polynomial Regression](#polynomial_regression)\n",
    "4. [Learning Curves](#learning_curves)\n",
    "5. [Regularized Linear Model](#regularized_linear_model)"
   ]
  },
  {
   "cell_type": "markdown",
   "metadata": {},
   "source": [
    "## <a id='linear_regression'>Linear Regression</a>"
   ]
  },
  {
   "cell_type": "markdown",
   "metadata": {},
   "source": [
    "A linear model makes a prediction by simply computing a weighted sum of the input features, with a constant term called _bias_ term or _intercept_.  \n",
    "\n",
    "\\begin{equation*}\n",
    "\\hat{y} = \\theta_0 + \\theta_1x_1 + ... + \\theta_nx_n \n",
    "\\end{equation*}\n",
    "* y is the predicted value\n",
    "* n is number of features\n",
    "* x<sub>i</sub> is the ith feature value\n",
    "* $\\theta$<sub>i</sub> is the j<sup>th</sup> model parameter (where $\\theta$<sub>0</sub> is the bias term)\n",
    "\n",
    "In vector form it would be:  \n",
    "\\begin{equation*}\n",
    "\\hat{y} = h_\\theta(x) = \\theta^T.x\n",
    "\\end{equation*}\n",
    "* $\\theta$ is model's parameter vector containing $\\theta$<sub>0</sub> to $\\theta$<sub>n</sub>. $\\theta$ is a column vector\n",
    "* x is instance's feature vector with x<sub>0</sub> (always equal to 1) to x<sub>n</sub>\n",
    "* h<sub>$\\theta$</sub> is hypothesis function.\n",
    "\n",
    "In linear regression, training the model means setting parameters to fit training data. The performance measure is _Root Mean Square Error_ or _Mean Square Error_. So training model means to find $\\theta$ that minimizes RMSE/MSE.  \n",
    "Cost function of MSE look like: \n",
    "\\begin{equation*}\n",
    "MSE(X,h_\\theta) = \\frac{1}{m} \\sum_{i=1}^m (\\theta^T.x^i - y^i)^2\n",
    "\\end{equation*}"
   ]
  },
  {
   "cell_type": "markdown",
   "metadata": {},
   "source": [
    "### Normal Equation\n",
    "\n",
    "We are looking for the $\\theta$ that minimizes cost function.\n",
    "$$\n",
    "\\hat{\\theta} = (X^T . X)^{-1}.X^Ty\n",
    "$$\n",
    "where X is the dataset, $\\hat{\\theta}$ is the value of $\\theta$ that minimizes cost function and y is vector of target values.  \n"
   ]
  },
  {
   "cell_type": "code",
   "execution_count": 41,
   "metadata": {},
   "outputs": [
    {
     "data": {
      "text/plain": [
       "<matplotlib.collections.PathCollection at 0x12105a128>"
      ]
     },
     "execution_count": 41,
     "metadata": {},
     "output_type": "execute_result"
    },
    {
     "data": {
      "image/png": "[encoded data removed]",
      "text/plain": [
       "<Figure size 432x288 with 1 Axes>"
      ]
     },
     "metadata": {
      "needs_background": "light"
     },
     "output_type": "display_data"
    }
   ],
   "source": [
    "import numpy as np\n",
    "import matplotlib.pyplot as plt\n",
    "\n",
    "X = 2* np.random.rand(100,1)\n",
    "y = 4 + 3*X + np.random.randn(100,1)\n",
    "plt.scatter(X,y)\n"
   ]
  },
  {
   "cell_type": "markdown",
   "metadata": {},
   "source": [
    "Computing the $\\hat{\\theta}$ using Normal Equation:"
   ]
  },
  {
   "cell_type": "code",
   "execution_count": 42,
   "metadata": {},
   "outputs": [
    {
     "data": {
      "text/plain": [
       "array([[3.72941029],\n",
       "       [3.13927335]])"
      ]
     },
     "execution_count": 42,
     "metadata": {},
     "output_type": "execute_result"
    }
   ],
   "source": [
    "X_b = np.c_[np.ones((100,1)),X]\n",
    "theta_best = np.linalg.inv(X_b.T.dot(X_b)).dot(X_b.T).dot(y)\n",
    "theta_best"
   ]
  },
  {
   "cell_type": "markdown",
   "metadata": {},
   "source": [
    "The y value we create is  \n",
    "$$\n",
    "y = 4 + 3x_0 + Gaussian Noise\n",
    "$$\n",
    "\n",
    "Which means that the best possible answer would be that $\\theta_0 = 4$ and $\\theta_1 = 3$. However because of the gaussian noise, it is impossible to recover the exact parameter. "
   ]
  },
  {
   "cell_type": "code",
   "execution_count": 43,
   "metadata": {},
   "outputs": [
    {
     "data": {
      "text/plain": [
       "array([[1., 0.],\n",
       "       [1., 2.]])"
      ]
     },
     "execution_count": 43,
     "metadata": {},
     "output_type": "execute_result"
    }
   ],
   "source": [
    "# Creating predictions now\n",
    "\n",
    "X_testing = np.array([[0], [2]])\n",
    "X_new = np.c_[np.ones((2,1)),X_testing]\n",
    "X_new"
   ]
  },
  {
   "cell_type": "code",
   "execution_count": 44,
   "metadata": {},
   "outputs": [
    {
     "data": {
      "text/plain": [
       "array([[ 3.72941029],\n",
       "       [10.007957  ]])"
      ]
     },
     "execution_count": 44,
     "metadata": {},
     "output_type": "execute_result"
    }
   ],
   "source": [
    "y_prediction = X_new.dot(theta_best)\n",
    "y_prediction"
   ]
  },
  {
   "cell_type": "code",
   "execution_count": 45,
   "metadata": {},
   "outputs": [
    {
     "data": {
      "image/png": "[encoded data removed]",
      "text/plain": [
       "<Figure size 432x288 with 1 Axes>"
      ]
     },
     "metadata": {
      "needs_background": "light"
     },
     "output_type": "display_data"
    }
   ],
   "source": [
    "plt.plot(X_new, y_prediction, 'r-')\n",
    "plt.plot(X,y,'b.')\n",
    "plt.axis([0,2,0,15])\n",
    "plt.show()"
   ]
  },
  {
   "cell_type": "code",
   "execution_count": 46,
   "metadata": {},
   "outputs": [
    {
     "data": {
      "text/plain": [
       "(array([3.72941029]), array([[3.13927335]]))"
      ]
     },
     "execution_count": 46,
     "metadata": {},
     "output_type": "execute_result"
    }
   ],
   "source": [
    "# Similar code but using sklearn's linear regression\n",
    "from sklearn.linear_model import LinearRegression\n",
    "\n",
    "lin_reg = LinearRegression()\n",
    "lin_reg.fit(X,y)\n",
    "lin_reg.intercept_, lin_reg.coef_"
   ]
  },
  {
   "cell_type": "markdown",
   "metadata": {},
   "source": [
    "Result above shows the parameter $\\theta$. We can use it for prediction now."
   ]
  },
  {
   "cell_type": "code",
   "execution_count": 47,
   "metadata": {},
   "outputs": [
    {
     "data": {
      "text/plain": [
       "array([[ 3.72941029],\n",
       "       [10.007957  ]])"
      ]
     },
     "execution_count": 47,
     "metadata": {},
     "output_type": "execute_result"
    }
   ],
   "source": [
    "lin_reg.predict(X_testing)"
   ]
  },
  {
   "cell_type": "markdown",
   "metadata": {},
   "source": [
    "### Analysis on Computational Complexity\n",
    "\n",
    "Inverse of $X^T.X$ which is $n\\times n$ matrix takes around $O(n^{2.4})$ to $O(n^{3})$. In terms of computation, higher number of features may result to a huge time consumed to calculate the $\\theta$. However, the space complexity to store instances is linear.  \n",
    "Making prediction is also linear since you only multiply $\\theta$ with the test instance.  \n",
    "\n",
    "If the number of instances is small, finding $\\theta$ method is acceptable."
   ]
  },
  {
   "cell_type": "markdown",
   "metadata": {},
   "source": [
    "## <a id='gradient_descent'>Gradient Descent</a>\n",
    "\n",
    "Gradient Descent is an optimization algorithm to find optimal solutions different problems. The premise is that we try to tweak parameters iteratively in order to achieve minimum cost function.  \n",
    "\n",
    "<img src='img/003_1.jpg' width=400px height=400px></img>\n",
    "\n",
    "In the image above, we see that we're trying to find the minimum cost. Given in any point, we are trying to find the direction in which we can see descending gradient and traverse that route until we find a minimum (gradient of 0).  \n",
    "\n",
    "We start $\\theta$ from a random value(random initialization) and then improve it gradually by taking one step at a time (iterative) until algorithm converges to a minimum.  \n",
    "\n",
    "The parameter to notice is the size of the step which is determined by the __learning rate__. If it's too small, it will take many iterations to reach convergence. If too high, it may miss the minimum and will fail to find a good solution. \n",
    "\n",
    "<img src='img/003_2.jpg' width=400px height=400px></img>\n",
    "\n",
    "The 2 disadvantages of using Gradient Descent is shown in the image above. \n",
    "\n",
    "Firstly, like the points on the left, even if it goes down, it reaches local minimum but not global minimum. This means that it is not guaranteed to give the optimal parameter.  \n",
    "\n",
    "Secondly, like the points on the right, if there is a plateau(0 gradient for multiple points as if forming a straight line), it takes a very long time to cross it and if you stop early, it will never reach the global minimum.  \n",
    "\n",
    "One good thing for regression is that the cost function of using MSE is always a [convex function](https://en.wikipedia.org/wiki/Convex_function). Therefore, there will only be 1 global minima instead of multiple local minima. So using gradient descent is guaranteed to approach close to a global minima (if you wait long enough and learning rate is not too high).  \n",
    "\n",
    "<img src='img/003_3.jpg' width=400px height=400px></img>\n",
    "\n",
    "Image above describes the shape of cost function. It has a shape of a bowl (which can also be elongated if feature have different scales). On the left is if they have the same scale. On the right is if $\\theta_1$ have smaller values than $\\theta_2$ The reason for image on the right is that it takes larger change in $\\theta_1$ to affect cost function.  \n",
    "\n",
    "It is recommended that when doing gradient descent, the features must be scaled (i.e. using standard scaler). If the image on the right happens, it is going to take a long time to converge. \n",
    "\n",
    "### Batch Gradient Descent\n",
    "$$\n",
    "\\frac{\\partial}{\\partial\\theta_j} MSE(\\theta) = \\frac{2}{m}\\sum_{i=1}^{m} (\\theta^T.x^i - y^i)x_j^i\n",
    "$$\n",
    "\n",
    "In general it can also be represented as:\n",
    "\n",
    "<img src='img/003_4.jpg'></img>\n",
    "\n",
    "Note: $x^i$ means that the $i^{th}$ instance of the data set. $x^i_j$ means the coefficient of jth feature on instance i of dataset x.  \n",
    "Gradient descent does not scale well with number of training instances because algorithm goes in batch. Gradient Descent uses the whole batch of training data every step. This causes gradient descent to be very slow on high training instances.  \n",
    "\n",
    "However it fares well with number of features compared to Normal Equation. \n",
    "Iteratively we will apply the equation below:  \n",
    "$$\n",
    "\\theta_{t+1} = \\theta_t - \\eta\\nabla_{\\theta}MSE(\\theta)\n",
    "$$\n"
   ]
  },
  {
   "cell_type": "code",
   "execution_count": 48,
   "metadata": {},
   "outputs": [],
   "source": [
    "# Implementation of Batch Gradient Descent\n",
    "\n",
    "alpha = 0.1 # learning rate\n",
    "n_iterations = 1000\n",
    "m = 100 # number of training set\n",
    "\n",
    "theta = np.random.randn(2,1) # initializing random\n",
    "for iteration in range(n_iterations):\n",
    "    grad = 2/m * X_b.T.dot(X_b.dot(theta)-y) # gradients\n",
    "    theta = theta - alpha * grad"
   ]
  },
  {
   "cell_type": "code",
   "execution_count": 49,
   "metadata": {},
   "outputs": [
    {
     "data": {
      "text/plain": [
       "array([[3.72941029],\n",
       "       [3.13927335]])"
      ]
     },
     "execution_count": 49,
     "metadata": {},
     "output_type": "execute_result"
    }
   ],
   "source": [
    "theta"
   ]
  },
  {
   "cell_type": "code",
   "execution_count": 50,
   "metadata": {},
   "outputs": [],
   "source": [
    "# General Function\n",
    "def gradient_descent(n, theta, X, n_iterations=1000, learning_rate=0.1):\n",
    "    for iteration in range(n_iterations):\n",
    "        gradient = 2/m * X.T.dot(X.dot(theta)-y)\n",
    "        theta = theta - learning_rate * gradient\n",
    "    return theta"
   ]
  },
  {
   "cell_type": "code",
   "execution_count": 51,
   "metadata": {},
   "outputs": [
    {
     "data": {
      "text/plain": [
       "array([[3.72941029],\n",
       "       [3.13927335]])"
      ]
     },
     "execution_count": 51,
     "metadata": {},
     "output_type": "execute_result"
    }
   ],
   "source": [
    "# try using different learning rate and see the final result.\n",
    "\n",
    "n = 100\n",
    "theta = np.random.randn(2,1)\n",
    "gradient_descent(n,theta, X_b, learning_rate=0.3)"
   ]
  },
  {
   "cell_type": "code",
   "execution_count": 52,
   "metadata": {},
   "outputs": [
    {
     "data": {
      "text/plain": [
       "array([[-6.72571431e+61],\n",
       "       [-8.04291511e+61]])"
      ]
     },
     "execution_count": 52,
     "metadata": {},
     "output_type": "execute_result"
    }
   ],
   "source": [
    "gradient_descent(n,theta,X_b, learning_rate=0.5)"
   ]
  },
  {
   "cell_type": "markdown",
   "metadata": {},
   "source": [
    "As you see from above, with learning rate of 0.5, it already produces massively incorrect result."
   ]
  },
  {
   "cell_type": "code",
   "execution_count": 53,
   "metadata": {},
   "outputs": [
    {
     "data": {
      "text/plain": [
       "[<matplotlib.lines.Line2D at 0x1210f4240>]"
      ]
     },
     "execution_count": 53,
     "metadata": {},
     "output_type": "execute_result"
    },
    {
     "data": {
      "image/png": "[encoded data removed]",
      "text/plain": [
       "<Figure size 432x288 with 1 Axes>"
      ]
     },
     "metadata": {
      "needs_background": "light"
     },
     "output_type": "display_data"
    }
   ],
   "source": [
    "# plotting\n",
    "final_theta = gradient_descent(n, theta, X_b, learning_rate=0.09)\n",
    "x_sample = np.linspace(0,2,100)\n",
    "y_predicted = final_theta[0] + final_theta[1]*x_sample\n",
    "\n",
    "plt.scatter(X,y)\n",
    "plt.axis([0,2,0,15])\n",
    "plt.plot(x_sample,y_predicted,'r-')"
   ]
  },
  {
   "cell_type": "markdown",
   "metadata": {},
   "source": [
    "Difficulty in deciding the number of iteration can handled also by using an if loop. We set a certain threshold for the gradient (if gradient is very small almost close to 0). Break out of loop if it is less than or equal to the threshold."
   ]
  },
  {
   "cell_type": "markdown",
   "metadata": {},
   "source": [
    "### Stochastic Gradient Descent\n",
    "\n",
    "Mentioned before, the problem with Batch Gradient Descent is that the error calculation (computing gradient) requires to use the whole training batch at every step. So, it does not scale well with respect to the number of training instances. So SGD tackles the problem that Batch gives.  \n",
    "\n",
    "On the other hand, because it is stochastic(random), algorithm is rather irregular. Unlike Batch Gradient Descent, the Cost Function can go up and down, still decreasing overall however. Once it gets to the minimum it will still bounce around. With its unpredictability, it reaches a good enough parameter but it may not be optimal.  \n",
    "\n",
    "Despite the irregular cost function, this may help algorithm to jump out of local minima and look for the global minima. So it has a better chance of finding global minimum than Batch Gradient Descent.  \n",
    "\n",
    "Randomness is good to escape from local minima in order to find global minima. However, it is very much dependent on the learning rate. To make sure that global minima is reached, we need to regulate the learning rate. The process is called _simulated annealing_ where the first steps are large (to reach the close minima somehow) then reduce it so that it settles on global minimum.  \n",
    "\n",
    "The function that determines learning rate for each iteration is called _learning schedule_. If it goes too small too quick, it will be stuck in local minimum. If too slow, it may jump out of global minimum but then stops in a suboptimal solution."
   ]
  },
  {
   "cell_type": "code",
   "execution_count": 54,
   "metadata": {},
   "outputs": [],
   "source": [
    "# Simple Implementation of Stochastic Gradient Descent\n",
    "\n",
    "m = 100\n",
    "n_epochs = 50 # number of iterations\n",
    "t0, t1 = 5, 50 # learning schedule hyperparameter\n",
    "\n",
    "def learning_schedule(t):\n",
    "    return t0/(t+t1)\n",
    "\n",
    "theta = np.random.randn(2,1) # random initialization\n",
    "\n",
    "\n",
    "for epoch in range(n_epochs):\n",
    "    for i in range(m):\n",
    "        index = np.random.randint(m)\n",
    "        xi = X_b[index:index+1] # choose a random x\n",
    "        yi = y[index:index+1] # choose the label with respect to the x chosen previously\n",
    "        grad = 2* xi.T.dot(xi.dot(theta)-yi) # finding the gradient by using just that 1 particular sample\n",
    "        eta = learning_schedule(epoch*m+i)\n",
    "        theta = theta - eta*grad # update rule\n"
   ]
  },
  {
   "cell_type": "code",
   "execution_count": 55,
   "metadata": {},
   "outputs": [
    {
     "data": {
      "text/plain": [
       "(array([[1.        , 0.99763662]]), array([1.        , 0.99763662]))"
      ]
     },
     "execution_count": 55,
     "metadata": {},
     "output_type": "execute_result"
    }
   ],
   "source": [
    "# difference between X_b[index:index+1] and X_b[index]\n",
    "X_b[index:index+1], X_b[index]"
   ]
  },
  {
   "cell_type": "markdown",
   "metadata": {},
   "source": [
    "In Stochastic Gradient Descent, we use epoch, which is the number of rounds we want the whole training set to be traversed. Th enumber of epochs however is still much smaller compared to the Batch Gradient Descent loop.  \n",
    "\n",
    "In Scikit Learn, we use [SGDRegressor](https://scikit-learn.org/stable/modules/generated/sklearn.linear_model.SGDRegressor.html).\n",
    "We use function [ravel()](https://docs.scipy.org/doc/numpy/reference/generated/numpy.ravel.html) to flatten any array into a single array."
   ]
  },
  {
   "cell_type": "code",
   "execution_count": 56,
   "metadata": {},
   "outputs": [
    {
     "name": "stderr",
     "output_type": "stream",
     "text": [
      "/Users/nigelnicholas/Library/Python/3.6/lib/python/site-packages/sklearn/linear_model/stochastic_gradient.py:152: DeprecationWarning: n_iter parameter is deprecated in 0.19 and will be removed in 0.21. Use max_iter and tol instead.\n",
      "  DeprecationWarning)\n"
     ]
    },
    {
     "data": {
      "text/plain": [
       "SGDRegressor(alpha=0.0001, average=False, early_stopping=False, epsilon=0.1,\n",
       "       eta0=0.1, fit_intercept=True, l1_ratio=0.15,\n",
       "       learning_rate='invscaling', loss='squared_loss', max_iter=None,\n",
       "       n_iter=50, n_iter_no_change=5, penalty=None, power_t=0.25,\n",
       "       random_state=None, shuffle=True, tol=None, validation_fraction=0.1,\n",
       "       verbose=0, warm_start=False)"
      ]
     },
     "execution_count": 56,
     "metadata": {},
     "output_type": "execute_result"
    }
   ],
   "source": [
    "from sklearn.linear_model import SGDRegressor\n",
    "\n",
    "sgd_reg = SGDRegressor(n_iter=50, penalty=None, eta0=0.1)\n",
    "sgd_reg.fit(X,y.ravel())\n"
   ]
  },
  {
   "cell_type": "code",
   "execution_count": 57,
   "metadata": {},
   "outputs": [
    {
     "name": "stdout",
     "output_type": "stream",
     "text": [
      "intercept: [3.68867475], parameters: [3.09426303]\n"
     ]
    }
   ],
   "source": [
    "# to see the parameters\n",
    "print('intercept: {}, parameters: {}'.format(sgd_reg.intercept_, sgd_reg.coef_))"
   ]
  },
  {
   "cell_type": "markdown",
   "metadata": {},
   "source": [
    "### Mini-batch Gradient Descent\n",
    "\n",
    "Unlike the previous two, Mini-batch SGD computes gradients on small random sets of instances(mini-batches). Mini-batch Gradient Descent will achieve minimum much closer than SGD. But, it will be hard to escape local minima.  \n",
    "\n",
    "The comparison would look like:\n",
    "<img src='img/003_5.jpg' width=400px height=400px></img>\n",
    "\n",
    "However in the end, it will end with similar results."
   ]
  },
  {
   "cell_type": "markdown",
   "metadata": {},
   "source": [
    "## <a id='polynomial_regression'>Polynomial Regression</a>\n",
    "\n",
    "The premise of polynomial regression is to fit a non-linear model to a linear model. One way is that, all the variables that has power > 1 should be set as a new variable (adding features). That means that during training, there are more features.\n",
    "\n",
    "Using Scikit Learn's: [Polynomial Features](https://www.google.com/search?q=polynomial+features&oq=polynomial+features+&aqs=chrome..69i57j0l5.3677j0j7&sourceid=chrome&ie=UTF-8)\n",
    "Take the following example:"
   ]
  },
  {
   "cell_type": "code",
   "execution_count": 58,
   "metadata": {},
   "outputs": [
    {
     "data": {
      "text/plain": [
       "<matplotlib.collections.PathCollection at 0x1212b3e10>"
      ]
     },
     "execution_count": 58,
     "metadata": {},
     "output_type": "execute_result"
    },
    {
     "data": {
      "image/png": "[encoded data removed]",
      "text/plain": [
       "<Figure size 432x288 with 1 Axes>"
      ]
     },
     "metadata": {
      "needs_background": "light"
     },
     "output_type": "display_data"
    }
   ],
   "source": [
    "m = 100\n",
    "X = 6* np.random.rand(m, 1) - 3\n",
    "y = 0.5*X**2 + X + 2 + np.random.randn(m, 1) # add noise to make distribution (not everything will be in 1 line)\n",
    "plt.scatter(X,y)"
   ]
  },
  {
   "cell_type": "markdown",
   "metadata": {},
   "source": [
    "Transform training data by adding the square of each feature in the training set as new features."
   ]
  },
  {
   "cell_type": "code",
   "execution_count": 59,
   "metadata": {},
   "outputs": [
    {
     "data": {
      "text/plain": [
       "(array([-1.63047799]), array([-1.63047799,  2.65845849]))"
      ]
     },
     "execution_count": 59,
     "metadata": {},
     "output_type": "execute_result"
    }
   ],
   "source": [
    "from sklearn.preprocessing import PolynomialFeatures\n",
    "poly_features = PolynomialFeatures(degree=2, include_bias=False)\n",
    "X_poly = poly_features.fit_transform(X)\n",
    "# the second part of X_poly[0] is the squared of first part\n",
    "X[0], X_poly[0]"
   ]
  },
  {
   "cell_type": "markdown",
   "metadata": {},
   "source": [
    "After the new poly_features, we can now do linear regression on it."
   ]
  },
  {
   "cell_type": "code",
   "execution_count": 60,
   "metadata": {},
   "outputs": [
    {
     "data": {
      "text/plain": [
       "LinearRegression(copy_X=True, fit_intercept=True, n_jobs=None,\n",
       "         normalize=False)"
      ]
     },
     "execution_count": 60,
     "metadata": {},
     "output_type": "execute_result"
    }
   ],
   "source": [
    "lin_reg = LinearRegression()\n",
    "lin_reg.fit(X_poly, y)\n"
   ]
  },
  {
   "cell_type": "code",
   "execution_count": 61,
   "metadata": {},
   "outputs": [
    {
     "data": {
      "text/plain": [
       "(array([1.85988327]), array([[0.88250624, 0.54859011]]))"
      ]
     },
     "execution_count": 61,
     "metadata": {},
     "output_type": "execute_result"
    }
   ],
   "source": [
    "lin_reg.intercept_, lin_reg.coef_ "
   ]
  },
  {
   "cell_type": "markdown",
   "metadata": {},
   "source": [
    "As seen from above, we have 2 coefficient instead of one. \n",
    "The function that is presented therefore will be:\n",
    "$$\n",
    "\\hat{y} = 2.01 + 1.03x + 0.522x^2\n",
    "$$\n",
    "\n",
    "Surprisingly it's very close with the real equation we created."
   ]
  },
  {
   "cell_type": "code",
   "execution_count": 62,
   "metadata": {},
   "outputs": [],
   "source": [
    "X_poly_n = np.c_[np.ones((m,1)), X_poly]"
   ]
  },
  {
   "cell_type": "code",
   "execution_count": 63,
   "metadata": {},
   "outputs": [
    {
     "data": {
      "text/plain": [
       "array([[1.85988327],\n",
       "       [0.88250624],\n",
       "       [0.54859011]])"
      ]
     },
     "execution_count": 63,
     "metadata": {},
     "output_type": "execute_result"
    }
   ],
   "source": [
    "theta = np.c_[lin_reg.intercept_, lin_reg.coef_].reshape(-1,1)\n",
    "theta"
   ]
  },
  {
   "cell_type": "code",
   "execution_count": 64,
   "metadata": {},
   "outputs": [
    {
     "data": {
      "text/plain": [
       "[<matplotlib.lines.Line2D at 0x12134e588>]"
      ]
     },
     "execution_count": 64,
     "metadata": {},
     "output_type": "execute_result"
    },
    {
     "data": {
      "image/png": "[encoded data removed]",
      "text/plain": [
       "<Figure size 432x288 with 1 Axes>"
      ]
     },
     "metadata": {
      "needs_background": "light"
     },
     "output_type": "display_data"
    }
   ],
   "source": [
    "y_prediction = X_poly_n.dot(theta)\n",
    "# plotting choice 1\n",
    "plt.plot(X,y_prediction,'r.')\n",
    "plt.plot(X,y,'b.')"
   ]
  },
  {
   "cell_type": "code",
   "execution_count": 65,
   "metadata": {},
   "outputs": [
    {
     "data": {
      "text/plain": [
       "<matplotlib.legend.Legend at 0x120c9e278>"
      ]
     },
     "execution_count": 65,
     "metadata": {},
     "output_type": "execute_result"
    },
    {
     "data": {
      "image/png": "[encoded data removed]",
      "text/plain": [
       "<Figure size 432x288 with 1 Axes>"
      ]
     },
     "metadata": {
      "needs_background": "light"
     },
     "output_type": "display_data"
    }
   ],
   "source": [
    "# plotting choice 2 (plot immediately with parameter\n",
    "X_space = np.linspace(np.floor(min(X)), np.ceil(max(X)))\n",
    "y_plot = theta[0] + theta[1]*X_space + theta[2]*X_space**2\n",
    "plt.plot(X_space,y_plot,'r',label='line')\n",
    "plt.scatter(X,y,label='data instances')\n",
    "plt.legend()"
   ]
  },
  {
   "cell_type": "markdown",
   "metadata": {},
   "source": [
    "## <a id='learning_curves'>Learning Curves</a>\n",
    "\n",
    "Higher power of polynomial features lead to overfitting of training data. To check whether model is overfitting or underfitting, use cross-validation to get model's generalization performance.  \n",
    "\n",
    "Usually overfitting happens if model is too complex."
   ]
  },
  {
   "cell_type": "code",
   "execution_count": 66,
   "metadata": {},
   "outputs": [],
   "source": [
    "from sklearn.metrics import mean_squared_error\n",
    "from sklearn.model_selection import train_test_split\n",
    "\n",
    "def plot_learning_curve(model, X, y):\n",
    "    X_train, X_val, y_train, y_val = train_test_split(X, y, test_size=0.2) # 80% for training and remaining for validation\n",
    "    training_error, validation_error = [], [] # empty list initialization\n",
    "    # loop over the training size\n",
    "    for m in range(1, len(X_train)):\n",
    "        model.fit(X_train[:m], y_train[:m]) # only train up to m\n",
    "        y_train_predict = model.predict(X_train[:m]) # \n",
    "        y_val_predict = model.predict(X_val)\n",
    "        # training error\n",
    "        training_error.append(mean_squared_error(y_train_predict, y_train[:m]))\n",
    "        # validation error\n",
    "        validation_error.append(mean_squared_error(y_val_predict, y_val))\n",
    "    plt.plot(np.sqrt(training_error), 'r-+', label='training error')\n",
    "    plt.plot(np.sqrt(validation_error), 'b-', label='validation error')\n",
    "    plt.xlabel('Size of training set')\n",
    "    plt.ylabel('Root Mean Squared Error')\n",
    "    plt.legend()"
   ]
  },
  {
   "cell_type": "code",
   "execution_count": 67,
   "metadata": {},
   "outputs": [
    {
     "data": {
      "image/png": "[encoded data removed]",
      "text/plain": [
       "<Figure size 432x288 with 1 Axes>"
      ]
     },
     "metadata": {
      "needs_background": "light"
     },
     "output_type": "display_data"
    }
   ],
   "source": [
    "lin_reg = LinearRegression()\n",
    "plot_learning_curve(lin_reg, X, y)"
   ]
  },
  {
   "cell_type": "markdown",
   "metadata": {},
   "source": [
    "Analysis:\n",
    "\n",
    "For __Training Data__: Initially until x=2, theR RMSE is 0. This is because when there are 1 or 2 points only, they can be connected by a single straight line and both will fit into the line. But more than that, the RMSE will increase. The error will go up until it reaches plateau. After that plateau, adding instances don't really affect the RMSE in general. It will just fluctuate from a certain value.   \n",
    "\n",
    "For __Validation Data__: Opposite of training data, initially the validation error is high because the line not necessarily will pass through/close to the data. But as the training instances increase, the error will also decrease becauses  supposedly it gets better with training. It reaches a plateau also because the line starts regressing to one point then it just fluctuates around it.  \n",
    "\n",
    "Example above shows that the model is underfitting because the error for both is quite high."
   ]
  },
  {
   "cell_type": "code",
   "execution_count": 68,
   "metadata": {},
   "outputs": [
    {
     "data": {
      "image/png": "[encoded data removed]",
      "text/plain": [
       "<Figure size 432x288 with 1 Axes>"
      ]
     },
     "metadata": {
      "needs_background": "light"
     },
     "output_type": "display_data"
    }
   ],
   "source": [
    "# Using pipeline to make process easier\n",
    "\n",
    "from sklearn.pipeline import Pipeline\n",
    "\n",
    "polynomial_regression = Pipeline([\n",
    "    ('poly_features', PolynomialFeatures(degree=10, include_bias=False)),\n",
    "    ('sgd_reg', LinearRegression())\n",
    "])\n",
    "plot_learning_curve(polynomial_regression, X, y)"
   ]
  },
  {
   "cell_type": "markdown",
   "metadata": {},
   "source": [
    "## <a id='regularized_linear_model'>Regularized Linear Model</a>\n",
    "Regularization is a way to reduce overfitting of training data.  \n",
    "\n",
    "### Ridge Regression\n",
    "\n",
    "In order to reduce overfitting, we add a penalty term to the cost function so that it deals with the test error better. Adding the new term $\\alpha\\sum_{i=1}^{n}\\theta_i^2$ keeps the model weights as small as possible. It is only added to cost function during training. During testing, it should use just regular MSE/RMSE.  \n",
    "\n",
    "Parameter $\\alpha$ controls how much we want to regularize the model (Linear regression is that cost function with $\\alpha=0$). If $\\alpha$ too big, then all weights get close to 0 and so result is flat line going through data mean.\n",
    "\n",
    "The new theta becomes:  \n",
    "$$\n",
    "\\hat{\\theta} = (X^T.X + \\alpha A)^{-1}.X^T.y\n",
    "$$\n",
    "\n",
    "A: an identity matrix with all 0 in first row."
   ]
  },
  {
   "cell_type": "code",
   "execution_count": 69,
   "metadata": {},
   "outputs": [
    {
     "data": {
      "text/plain": [
       "array([[4.94542456]])"
      ]
     },
     "execution_count": 69,
     "metadata": {},
     "output_type": "execute_result"
    }
   ],
   "source": [
    "from sklearn.linear_model import Ridge\n",
    "\n",
    "ridge_reg = Ridge(alpha=1, solver='cholesky')\n",
    "ridge_reg.fit(X,y)\n",
    "ridge_reg.predict([[1.5]])"
   ]
  },
  {
   "cell_type": "code",
   "execution_count": 70,
   "metadata": {},
   "outputs": [
    {
     "name": "stderr",
     "output_type": "stream",
     "text": [
      "/Users/nigelnicholas/Library/Python/3.6/lib/python/site-packages/sklearn/linear_model/stochastic_gradient.py:166: FutureWarning: max_iter and tol parameters have been added in SGDRegressor in 0.19. If both are left unset, they default to max_iter=5 and tol=None. If tol is not None, max_iter defaults to max_iter=1000. From 0.21, default max_iter will be 1000, and default tol will be 1e-3.\n",
      "  FutureWarning)\n",
      "/Users/nigelnicholas/Library/Python/3.6/lib/python/site-packages/sklearn/utils/validation.py:761: DataConversionWarning: A column-vector y was passed when a 1d array was expected. Please change the shape of y to (n_samples, ), for example using ravel().\n",
      "  y = column_or_1d(y, warn=True)\n"
     ]
    },
    {
     "data": {
      "text/plain": [
       "array([3.88821813])"
      ]
     },
     "execution_count": 70,
     "metadata": {},
     "output_type": "execute_result"
    }
   ],
   "source": [
    "# if using SGD but want to do ridge as well\n",
    "sgd_reg = SGDRegressor(penalty='l2') #l2 means we want regularization\n",
    "sgd_reg.fit(X,y)\n",
    "sgd_reg.predict([[1.5]])"
   ]
  },
  {
   "cell_type": "markdown",
   "metadata": {},
   "source": [
    "### Lasso Regression\n",
    "\n",
    "Lasso is short for _Least Absolute Shrinkage and Selection Operator Regression_. Similar to ridge, it adds regularization term to cost function. Instead of $l_2$ norm, it uses $l_1$ norm.  \n",
    "\n",
    "$$\n",
    "J(\\theta) = MSE(\\theta) + \\alpha \\sum_{i=1}^{n}|\\theta_i|\n",
    "$$\n",
    "\n",
    "Lasso regression tends to completely eliminate weights of the least important features. Lasso regression in a sense performs feature selection as well to a model. "
   ]
  },
  {
   "cell_type": "code",
   "execution_count": 71,
   "metadata": {},
   "outputs": [
    {
     "data": {
      "text/plain": [
       "array([4.89613857])"
      ]
     },
     "execution_count": 71,
     "metadata": {},
     "output_type": "execute_result"
    }
   ],
   "source": [
    "from sklearn.linear_model import Lasso\n",
    "lasso_reg = Lasso(alpha=0.1)\n",
    "lasso_reg.fit(X,y)\n",
    "lasso_reg.predict([[1.5]])\n"
   ]
  },
  {
   "cell_type": "markdown",
   "metadata": {},
   "source": [
    "## <a id='logistic_regression'>Logistic Regression</a>\n",
    "\n",
    "Logistic regression is regression method that can be used for classification purpose. It estimates the probability that an instance belongs to a particular class. The class that gives the highest estimated probability should be the one chosen to be the label.\n",
    "\n",
    "### Estimating the Probability\n",
    "\n",
    "Logistic regression model computes a weighted sum of the input features (plus a bias term). Instead of outputting the result directly, it outputs the _logistic_ of this result.  \n",
    "\n",
    "$$\n",
    "\\hat{p} = \\sigma(\\theta^T.x)\n",
    "$$\n",
    "\n",
    "This logistic which is noted by the $\\sigma$ is a [sigmoid function](https://en.wikipedia.org/wiki/Sigmoid_function) which is an S-shaped curve. It outputs a value between 0 to 1 which is exactly the range value of the probability.  \n",
    "\n",
    "$$\n",
    "\\sigma(t) = \\frac{1}{1 + e^-t}\n",
    "$$"
   ]
  },
  {
   "cell_type": "code",
   "execution_count": 72,
   "metadata": {},
   "outputs": [
    {
     "data": {
      "text/plain": [
       "[<matplotlib.lines.Line2D at 0x121438320>]"
      ]
     },
     "execution_count": 72,
     "metadata": {},
     "output_type": "execute_result"
    },
    {
     "data": {
      "image/png": "[encoded data removed]",
      "text/plain": [
       "<Figure size 432x288 with 1 Axes>"
      ]
     },
     "metadata": {
      "needs_background": "light"
     },
     "output_type": "display_data"
    }
   ],
   "source": [
    "x_sigmoid = np.linspace(-10,10)\n",
    "y_sigmoid = 1/(1+np.exp(-x_sigmoid))\n",
    "plt.plot(x_sigmoid, y_sigmoid)"
   ]
  },
  {
   "cell_type": "markdown",
   "metadata": {},
   "source": [
    "### Training and Cost Function\n",
    "\n",
    "Cost function for each instance:  \n",
    "$c(\\theta) = - log(\\hat{p})$ if y = 1  (positive classes)  \n",
    "$c(\\theta) = - log(1-\\hat{p})$ if y = 0 ( negative classes)  \n",
    "\n",
    "$ - \\log(t)$ grows large when t gets closer to 0. The cost will be large if the model estimates a probability close to 0 for a positive instance (because higher probability corresponds to the positive class).  \n",
    "\n",
    "Using the cost function of each instance, we can establish the cost function of the overall cost of all training instances in 1 equation:  \n",
    "\n",
    "$$\n",
    "J(\\theta) = -\\frac{1}{m} \\sum[y^{(i)}\\log(\\hat{p}^{(i)})+ (1-y^{(i)})\\log(1-\\hat{p}^{(i)})]\n",
    "$$\n",
    "\n",
    "$y^{(i)}$ means the label of instance i (i.e. 1 or 0).\n",
    "\n",
    "There are no closed form equation (like normal equation) for the equation however we can do gradient descent using the cost function equation. Partial derivative for each jth parameter of model is:\n",
    "\n",
    "<img src='img/003_6.jpg'></img>\n",
    "\n"
   ]
  },
  {
   "cell_type": "markdown",
   "metadata": {},
   "source": [
    "### Decision Boundaries\n"
   ]
  },
  {
   "cell_type": "code",
   "execution_count": 73,
   "metadata": {},
   "outputs": [
    {
     "data": {
      "text/plain": [
       "['data', 'target', 'target_names', 'DESCR', 'feature_names', 'filename']"
      ]
     },
     "execution_count": 73,
     "metadata": {},
     "output_type": "execute_result"
    }
   ],
   "source": [
    "from sklearn import datasets\n",
    "iris = datasets.load_iris()\n",
    "list(iris.keys())"
   ]
  },
  {
   "cell_type": "code",
   "execution_count": 74,
   "metadata": {},
   "outputs": [],
   "source": [
    "X = iris['data'][:,3:] # petal width\n",
    "y = (iris['target'] == 2).astype(np.int) # change into binary of whether positive or negative class."
   ]
  },
  {
   "cell_type": "code",
   "execution_count": 75,
   "metadata": {},
   "outputs": [
    {
     "name": "stderr",
     "output_type": "stream",
     "text": [
      "/Users/nigelnicholas/Library/Python/3.6/lib/python/site-packages/sklearn/linear_model/logistic.py:433: FutureWarning: Default solver will be changed to 'lbfgs' in 0.22. Specify a solver to silence this warning.\n",
      "  FutureWarning)\n"
     ]
    },
    {
     "data": {
      "text/plain": [
       "LogisticRegression(C=1.0, class_weight=None, dual=False, fit_intercept=True,\n",
       "          intercept_scaling=1, max_iter=100, multi_class='warn',\n",
       "          n_jobs=None, penalty='l2', random_state=None, solver='warn',\n",
       "          tol=0.0001, verbose=0, warm_start=False)"
      ]
     },
     "execution_count": 75,
     "metadata": {},
     "output_type": "execute_result"
    }
   ],
   "source": [
    "from sklearn.linear_model import LogisticRegression\n",
    "\n",
    "log_reg = LogisticRegression()\n",
    "log_reg.fit(X,y)"
   ]
  },
  {
   "cell_type": "code",
   "execution_count": 76,
   "metadata": {},
   "outputs": [
    {
     "data": {
      "text/plain": [
       "array([[0.98554411, 0.01445589],\n",
       "       [0.98543168, 0.01456832],\n",
       "       [0.98531838, 0.01468162],\n",
       "       ...,\n",
       "       [0.02618938, 0.97381062],\n",
       "       [0.02598963, 0.97401037],\n",
       "       [0.02579136, 0.97420864]])"
      ]
     },
     "execution_count": 76,
     "metadata": {},
     "output_type": "execute_result"
    }
   ],
   "source": [
    "X_new = np.linspace(0,3,1000).reshape(-1,1)\n",
    "y_proba = log_reg.predict_proba(X_new)\n",
    "y_proba # probability for positive and negative class"
   ]
  },
  {
   "cell_type": "code",
   "execution_count": 77,
   "metadata": {},
   "outputs": [
    {
     "data": {
      "text/plain": [
       "<matplotlib.legend.Legend at 0x121566128>"
      ]
     },
     "execution_count": 77,
     "metadata": {},
     "output_type": "execute_result"
    },
    {
     "data": {
      "image/png": "[encoded data removed]",
      "text/plain": [
       "<Figure size 432x288 with 1 Axes>"
      ]
     },
     "metadata": {
      "needs_background": "light"
     },
     "output_type": "display_data"
    }
   ],
   "source": [
    "plt.plot(X_new, y_proba[:,1], 'g-', label='Iris-Virginica')\n",
    "plt.plot(X_new, y_proba[:,0], 'b--', label='Non-Iris')\n",
    "plt.legend()"
   ]
  },
  {
   "cell_type": "markdown",
   "metadata": {},
   "source": [
    "There is a decision boundary which is the intersection line between the 2 curves. On the figure above, if above 1.6 cm it would have higher probability of Iris-Virginica. Else, it's the negative class."
   ]
  },
  {
   "cell_type": "markdown",
   "metadata": {},
   "source": [
    "### Softmax Regression\n",
    "\n",
    "Softmax regression is similar to logistic such that it is used for classifying. Instead of just 2 classes however, it is more generalizing (classes > 2). \n",
    "\n",
    "Given an instance x, softmax regression model computes the score of $s_k(x)$ for each class k, then estimate the probability that this instance belongs to class k. \n",
    "\n",
    "Supposedly, $s_k(x) = \\theta_k^T.x$. Each class has its own dedicated parameter $\\theta_k$.  \n",
    "\n",
    "After computing the score of every class for instance x, estimate probability $\\hat{p}_k$ that instance belongs to class k.\n",
    "\n",
    "The softmax function:  \n",
    "<img src='img/003_7.jpg'></img>  \n",
    "\n",
    "Then choosing the class would be the k that gives the highest $\\hat{p}_k$  \n",
    "\n",
    "Cross-entropy cost function:\n",
    "<img src='img/003_8.jpg'></img>"
   ]
  },
  {
   "cell_type": "code",
   "execution_count": 79,
   "metadata": {},
   "outputs": [
    {
     "data": {
      "text/plain": [
       "LogisticRegression(C=10, class_weight=None, dual=False, fit_intercept=True,\n",
       "          intercept_scaling=1, max_iter=100, multi_class='multinomial',\n",
       "          n_jobs=None, penalty='l2', random_state=None, solver='lbfgs',\n",
       "          tol=0.0001, verbose=0, warm_start=False)"
      ]
     },
     "execution_count": 79,
     "metadata": {},
     "output_type": "execute_result"
    }
   ],
   "source": [
    "X = iris['data'][:,(2,3)]\n",
    "y = iris['target']\n",
    "\n",
    "softmax_reg = LogisticRegression(multi_class='multinomial', solver='lbfgs', C=10)\n",
    "softmax_reg.fit(X,y)"
   ]
  },
  {
   "cell_type": "code",
   "execution_count": 81,
   "metadata": {},
   "outputs": [
    {
     "data": {
      "text/plain": [
       "array([[6.38014896e-07, 5.74929995e-02, 9.42506362e-01]])"
      ]
     },
     "execution_count": 81,
     "metadata": {},
     "output_type": "execute_result"
    }
   ],
   "source": [
    "softmax_reg.predict_proba([[5,2]]) # the probabilites of it belonging to each class."
   ]
  },
  {
   "cell_type": "code",
   "execution_count": null,
   "metadata": {},
   "outputs": [],
   "source": []
  }
 ],
 "metadata": {
  "kernelspec": {
   "display_name": "Python 3",
   "language": "python",
   "name": "python3"
  },
  "language_info": {
   "codemirror_mode": {
    "name": "ipython",
    "version": 3
   },
   "file_extension": ".py",
   "mimetype": "text/x-python",
   "name": "python",
   "nbconvert_exporter": "python",
   "pygments_lexer": "ipython3",
   "version": "3.6.5"
  }
 },
 "nbformat": 4,
 "nbformat_minor": 2
}
